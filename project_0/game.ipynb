{
 "cells": [
  {
   "cell_type": "code",
   "execution_count": 5,
   "metadata": {},
   "outputs": [],
   "source": [
    "import game_v2"
   ]
  },
  {
   "cell_type": "code",
   "execution_count": 6,
   "metadata": {},
   "outputs": [
    {
     "name": "stdout",
     "output_type": "stream",
     "text": [
      "Ваш алгоритм угадывает число в среднем за: 101 попыток\n"
     ]
    },
    {
     "data": {
      "text/plain": [
       "101"
      ]
     },
     "execution_count": 6,
     "metadata": {},
     "output_type": "execute_result"
    }
   ],
   "source": [
    "game_v2.score_game(game_v2.random_predict)"
   ]
  },
  {
   "cell_type": "markdown",
   "metadata": {},
   "source": [
    "# Игра кто быстрее угадает число"
   ]
  },
  {
   "cell_type": "code",
   "execution_count": 11,
   "metadata": {},
   "outputs": [],
   "source": [
    "from game_v3 import score_game, random_predict, game_core_v2, game_core_v3"
   ]
  },
  {
   "cell_type": "markdown",
   "metadata": {},
   "source": [
    "## Колличество попыток"
   ]
  },
  {
   "cell_type": "code",
   "execution_count": 10,
   "metadata": {},
   "outputs": [
    {
     "name": "stdout",
     "output_type": "stream",
     "text": [
      "Run benchmarking for random_predict: Ваш алгоритм угадывает число в среднем за: 99 попытки\n",
      "Run benchmarking for game_core_v2: Ваш алгоритм угадывает число в среднем за: 33 попытки\n",
      "Run benchmarking for game_core_v3: Ваш алгоритм угадывает число в среднем за: 5 попытки\n"
     ]
    }
   ],
   "source": [
    "print('Run benchmarking for random_predict: ', end='')\n",
    "score_game(random_predict)\n",
    "\n",
    "print('Run benchmarking for game_core_v2: ', end='')\n",
    "score_game(game_core_v2)\n",
    "\n",
    "print('Run benchmarking for game_core_v3: ', end='')\n",
    "score_game(game_core_v3)#вызов функции"
   ]
  }
 ],
 "metadata": {
  "kernelspec": {
   "display_name": "Python 3",
   "language": "python",
   "name": "python3"
  },
  "language_info": {
   "codemirror_mode": {
    "name": "ipython",
    "version": 3
   },
   "file_extension": ".py",
   "mimetype": "text/x-python",
   "name": "python",
   "nbconvert_exporter": "python",
   "pygments_lexer": "ipython3",
   "version": "3.12.3"
  }
 },
 "nbformat": 4,
 "nbformat_minor": 2
}
