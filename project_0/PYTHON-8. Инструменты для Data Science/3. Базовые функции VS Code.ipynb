{
 "cells": [
  {
   "cell_type": "markdown",
   "id": "eeb6037f",
   "metadata": {},
   "source": [
    "## Работа с кодом"
   ]
  },
  {
   "cell_type": "code",
   "execution_count": null,
   "id": "80c88d97",
   "metadata": {},
   "outputs": [
    {
     "ename": "ValueError",
     "evalue": "invalid literal for int() with base 10: ''",
     "output_type": "error",
     "traceback": [
      "\u001b[0;31m---------------------------------------------------------------------------\u001b[0m",
      "\u001b[0;31mValueError\u001b[0m                                Traceback (most recent call last)",
      "Cell \u001b[0;32mIn[2], line 23\u001b[0m\n\u001b[1;32m     21\u001b[0m \u001b[38;5;28;01mwhile\u001b[39;00m \u001b[38;5;28;01mTrue\u001b[39;00m:\n\u001b[1;32m     22\u001b[0m     count \u001b[38;5;241m+\u001b[39m\u001b[38;5;241m=\u001b[39m \u001b[38;5;241m1\u001b[39m\n\u001b[0;32m---> 23\u001b[0m     predict_number \u001b[38;5;241m=\u001b[39m \u001b[38;5;28;43mint\u001b[39;49m\u001b[43m(\u001b[49m\u001b[38;5;28;43minput\u001b[39;49m\u001b[43m(\u001b[49m\u001b[38;5;124;43m'\u001b[39;49m\u001b[38;5;124;43mУгадай число от 1 до 101\u001b[39;49m\u001b[38;5;124;43m'\u001b[39;49m\u001b[43m)\u001b[49m\u001b[43m)\u001b[49m\n\u001b[1;32m     25\u001b[0m \u001b[38;5;28mprint\u001b[39m(number)\n",
      "\u001b[0;31mValueError\u001b[0m: invalid literal for int() with base 10: ''"
     ]
    }
   ],
   "source": [
    "'''Напишем первую программу в VS Code — игру «Угадай число».\n",
    "\n",
    "Откройте файл game.py, который мы создавали ранее.\n",
    "\n",
    "Для начала в комментариях напишем, что будет делать наша программа \n",
    "(рекомендуется делать описание на английском языке, но в учебном проекте мы будем использовать русский).\n",
    "\n",
    "Для работы будущей программы нам потребуется библиотека NumPy — импортируем её:'''\n",
    "\n",
    "'''Загадываем число — для этого используем функцию random \n",
    "из библиотеки NumPy, которая будет генерировать случайное число от 1 до 100.'''\n",
    "import numpy as np\n",
    "\n",
    "number = np.random.randint(1, 101)\n",
    "\n",
    "# создаем счетчик колличества учета попыток\n",
    "count = 0\n",
    "\n",
    "# Теперь создаем цикл для который будет позволять вводить и угадывать числа\n",
    "\n",
    "while True:\n",
    "    count += 1\n",
    "    predict_number = int(input('Угадай число от 1 до 101'))\n",
    "    \n",
    "    if predict_number > number:\n",
    "        print('The number must be less')\n",
    "    \n",
    "    elif predict_number < number:\n",
    "        print('The number most be higher')\n",
    "    \n",
    "    else:\n",
    "        print(f'Bingo')    \n",
    "    \n",
    "print(number)"
   ]
  },
  {
   "cell_type": "code",
   "execution_count": null,
   "id": "a36499d8",
   "metadata": {},
   "outputs": [],
   "source": []
  }
 ],
 "metadata": {
  "kernelspec": {
   "display_name": "Python 3",
   "language": "python",
   "name": "python3"
  },
  "language_info": {
   "codemirror_mode": {
    "name": "ipython",
    "version": 3
   },
   "file_extension": ".py",
   "mimetype": "text/x-python",
   "name": "python",
   "nbconvert_exporter": "python",
   "pygments_lexer": "ipython3",
   "version": "3.12.3"
  }
 },
 "nbformat": 4,
 "nbformat_minor": 5
}
