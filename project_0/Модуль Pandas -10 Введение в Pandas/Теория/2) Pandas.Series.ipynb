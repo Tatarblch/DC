{
 "cells": [
  {
   "cell_type": "markdown",
   "id": "dc042184",
   "metadata": {},
   "source": [
    " #### Series — это упорядоченная изменяемая коллекция объектов, имеющая так называемые ассоциативные метки (индексы). \n",
    " ##### Эту структуру можно сравнить со списком: каждому элементу ставится в соответствие индекс, однако, в отличие от списка, индексами могут быть не только порядковые номера — фактически что угодно, например названия компаний, даты, идентификаторы, наименования продуктов."
   ]
  },
  {
   "cell_type": "markdown",
   "id": "e633a54c",
   "metadata": {},
   "source": [
    "#### Создание Series"
   ]
  },
  {
   "cell_type": "code",
   "execution_count": 3,
   "id": "7de002d0",
   "metadata": {},
   "outputs": [
    {
     "data": {
      "text/plain": [
       "UK       Англия\n",
       "CA       Канада\n",
       "US          США\n",
       "RU       Россия\n",
       "UA      Украина\n",
       "BY     Беларусь\n",
       "KZ    Казахстан\n",
       "Name: countries, dtype: object"
      ]
     },
     "metadata": {},
     "output_type": "display_data"
    }
   ],
   "source": [
    "'''Способ 1 — из списка с использованием параметров функции pd.Series():'''\n",
    "import pandas as pd\n",
    "countries = pd.Series(\n",
    "    data = ['Англия', 'Канада', 'США', 'Россия', 'Украина', 'Беларусь', 'Казахстан'],\n",
    "    index = ['UK', 'CA', 'US', 'RU', 'UA', 'BY', 'KZ'],\n",
    "    name = 'countries'\n",
    ")\n",
    "display(countries) # or you can use countries"
   ]
  },
  {
   "cell_type": "code",
   "execution_count": 4,
   "id": "c4ea14cd",
   "metadata": {},
   "outputs": [
    {
     "data": {
      "text/plain": [
       "UK       Англия\n",
       "CA       Канада\n",
       "US          США\n",
       "RU       Россия\n",
       "UA      Украина\n",
       "BY     Беларусь\n",
       "KZ    Казахстан\n",
       "Name: countries, dtype: object"
      ]
     },
     "execution_count": 4,
     "metadata": {},
     "output_type": "execute_result"
    }
   ],
   "source": [
    "'''\n",
    "Способ 2 — из словаря, в котором ключами являются будущие метки, а значениями — \n",
    "будущие значения Series, при этом использование параметра name также возможно:'''\n",
    "\n",
    "countries = pd.Series({\n",
    "    'UK': 'Англия',\n",
    "    'CA': 'Канада',\n",
    "    'US' : 'США',\n",
    "    'RU': 'Россия',\n",
    "    'UA': 'Украина',\n",
    "    'BY': 'Беларусь',\n",
    "    'KZ': 'Казахстан'},\n",
    "    name = 'countries')\n",
    "countries # or you can use display(countries)"
   ]
  },
  {
   "cell_type": "markdown",
   "id": "baf620a5",
   "metadata": {},
   "source": [
    "#### Доступ к данным в Series"
   ]
  },
  {
   "cell_type": "code",
   "execution_count": 5,
   "id": "2d0ccb6f",
   "metadata": {},
   "outputs": [
    {
     "name": "stdout",
     "output_type": "stream",
     "text": [
      "1) США\n",
      "______________\n",
      "2)\n",
      "US       США\n",
      "RU    Россия\n",
      "UK    Англия\n",
      "Name: countries, dtype: object\n"
     ]
    }
   ],
   "source": [
    "'''Доступ к элементам осуществляется с использованием loc или iloc.'''\n",
    "\n",
    "'''.loc вызывается с квадратными скобками, в которые передаются метки. В него можно передать как один \n",
    "индекс, так и список, чтобы получилось несколько элементов. \n",
    "\n",
    "Например, для получения названия страны по коду \"US\" можно выполнить следующий код:'''\n",
    "\n",
    "print('1)', countries.loc['US'])\n",
    "print('______________')\n",
    "# США\n",
    "'''Для того чтобы достать информацию по нескольким индексам, необходимо обернуть интересующие \n",
    "индексы в список:'''\n",
    "print('2)')\n",
    "print(countries.loc[['US', 'RU', 'UK']])\n"
   ]
  },
  {
   "cell_type": "code",
   "execution_count": 35,
   "id": "2d24e1f9",
   "metadata": {},
   "outputs": [
    {
     "name": "stdout",
     "output_type": "stream",
     "text": [
      "Казахстан\n",
      "___________\n",
      "CA    Канада\n",
      "US       США\n",
      "RU    Россия\n",
      "Name: countries, dtype: object\n"
     ]
    }
   ],
   "source": [
    "'''.iloc также вызывается с квадратными скобками и принимает на вход порядковые номера элементов Series \n",
    "(нумерация начинаются с 0). В него можно так же передавать как один индекс, так и диапазон чисел. '''\n",
    "\n",
    "'''Например, для получения элемента по индексу \"KZ\" нужно обратиться через .iloc по номеру 6:'''\n",
    "\n",
    "print(countries.iloc[6])\n",
    "print('___________')\n",
    "# Казахстан\n",
    "'''Получим срез из исходной Series с первого по третий элемент:'''\n",
    "\n",
    "print(countries.iloc[1:4])\n",
    "\n"
   ]
  }
 ],
 "metadata": {
  "kernelspec": {
   "display_name": "Python 3",
   "language": "python",
   "name": "python3"
  },
  "language_info": {
   "codemirror_mode": {
    "name": "ipython",
    "version": 3
   },
   "file_extension": ".py",
   "mimetype": "text/x-python",
   "name": "python",
   "nbconvert_exporter": "python",
   "pygments_lexer": "ipython3",
   "version": "3.12.3"
  }
 },
 "nbformat": 4,
 "nbformat_minor": 5
}
