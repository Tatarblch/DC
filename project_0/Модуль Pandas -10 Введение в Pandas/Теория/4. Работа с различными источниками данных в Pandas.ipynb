{
 "cells": [
  {
   "cell_type": "markdown",
   "id": "c3a03e23",
   "metadata": {},
   "source": [
    "### Запись в csv-файл\n",
    "\n",
    "формат csv (comma-separated values).\n",
    "В данном формате ячейки таблицы обозначаются некоторым разделителем, чаще всего запятой либо точкой с запятой.\n",
    "\n",
    "#### Экспорт данных в формат csv осуществляется с помощью метода DataFrame to_csv().  \n",
    "\n",
    "Основные параметры метода DataFrame to_csv()\n",
    "\n",
    "- path_or_buf — путь до файла, в который будет записан DataFrame (например, data/my_data.csv);\n",
    "- sep — разделитель данных в выходном файле (по умолчанию ',');\n",
    "- decimal — разделитель чисел на целую и дробную части в выходном файле (по умолчанию '.');\n",
    "- columns — список столбцов, которые нужно записать в файл (по умолчанию записываются все столбцы);\n",
    "- index — параметр, определяющий, требуется ли создавать дополнительный столбец с индексами строк в файле (по умолчанию True).\n",
    "\n",
    "Заранее создадим папку data в директории, где лежит наш ноутбук. Теперь давайте сохраним наш DataFrame с информацией о странах в csv-файл countries.csv и положим файл в папку data. При этом укажем, что разделителем в нашем файле будет являться символ ';', а также то, что нам не нужен дополнительный столбец с индексами строк:"
   ]
  },
  {
   "cell_type": "code",
   "execution_count": null,
   "id": "0bf05372",
   "metadata": {},
   "outputs": [],
   "source": [
    "'''import pandas as pd\n",
    "\n",
    "countries_df = pd.DataFrame({\n",
    "    'country': ['Англия', 'Канада', 'США', 'Россия', 'Украина', 'Беларусь', 'Казахстан'],\n",
    "    'population': [56.29, 38.05, 322.28, 146.24, 45.5, 9.5, 17.04],\n",
    "    'area': [133396, 9984670, 9826630, 17125191, 603628, 207600, 2724902]\n",
    "})\n",
    "\n",
    "countries_df.to_csv('data/countries.csv', index=False, sep=';')'''"
   ]
  },
  {
   "cell_type": "markdown",
   "id": "2f5a4c79",
   "metadata": {},
   "source": [
    "### Чтение csv-файла\n",
    "\n",
    "Для чтения таблицы из csv-файла используется функция модуля Pandas read_csv. Функция возвращает DataFrame и имеет несколько важных параметров.\n",
    "\n",
    "#### Основные параметры функции read_csv()\n",
    "- filepath_or_buffer — путь до файла, который мы читаем;\n",
    "- sep — разделитель данных (по умолчанию ',');\n",
    "- decimal — разделитель чисел на целую и дробную часть в выходном файле (по умолчанию '.');\n",
    "- names — список с названиями столбцов для чтения;\n",
    "- skiprows — количество строк в файле, которые нужно пропустить (например, файл может содержать служебную информацию, которая нам не нужна).\n",
    "\n",
    "Убедимся, что сохранённый нами ранее файл создался верно. Для этого прочитаем его в переменную countries_data и выведем её на экран. Не забудем также о том, что мы использовали в качестве разделителя ';':"
   ]
  },
  {
   "cell_type": "code",
   "execution_count": null,
   "id": "c39cdd0f",
   "metadata": {},
   "outputs": [],
   "source": [
    "countries_data = pd.read_csv('data/countries.csv', sep=';')\n",
    "display(countries_data)"
   ]
  },
  {
   "cell_type": "markdown",
   "id": "4d3a37fa",
   "metadata": {},
   "source": [
    "### Чтение csv-файла по ссылке\n",
    "\n",
    "На самом деле файл с данными не обязательно должен храниться у вас на компьютере. Если он находится в открытом доступе по ссылке (например, на Google Диске или GitHub), его можно прочитать и из интернета — для этого достаточно в функции read_csv() вместо пути до файла указать ссылку на файл. Например:"
   ]
  },
  {
   "cell_type": "code",
   "execution_count": null,
   "id": "1d6f9301",
   "metadata": {},
   "outputs": [],
   "source": [
    "data = pd.read_csv('https://raw.githubusercontent.com/esabunor/MLWorkspace/master/melb_data.csv')\n",
    "display(data)"
   ]
  },
  {
   "cell_type": "markdown",
   "id": "363f9fc1",
   "metadata": {},
   "source": [
    "### Запись и чтение в других форматах\n",
    "\n",
    "#### Методы для записи таблиц в файлы отличных от csv форматов:\n",
    "\n",
    "- to_excel() — запись DataFrame в формат Excel-таблицы (.xlsx);\n",
    "- to_json() — запись DataFrame в формат JSON (.json);\n",
    "- to_xml() — запись DataFrame в формат XML-документа (.xml);\n",
    "- to_sql() — запись DataFrame в базу данных SQL (для реализации этого метода необходимо установить соединение с базой данных).\n",
    "\n",
    "#### Методы для чтения таблиц из файлов в отличных от csv форматах:\n",
    "\n",
    "- read_excel() — чтение из формата Excel-таблицы (.xlsx) в DataFrame;\n",
    "- read_json() — чтение из формата JSON (.json) в DataFrame;\n",
    "- read_xml() — чтение из формата XML-документа (.xml) в DataFrame;\n",
    "- read_sql() — чтение из базы данных SQL в DataFrame (также необходимо установить соединение с базой данных)."
   ]
  }
 ],
 "metadata": {
  "kernelspec": {
   "display_name": "Python 3",
   "language": "python",
   "name": "python3"
  },
  "language_info": {
   "codemirror_mode": {
    "name": "ipython",
    "version": 3
   },
   "file_extension": ".py",
   "mimetype": "text/x-python",
   "name": "python",
   "nbconvert_exporter": "python",
   "pygments_lexer": "ipython3",
   "version": "3.12.3"
  }
 },
 "nbformat": 4,
 "nbformat_minor": 5
}
