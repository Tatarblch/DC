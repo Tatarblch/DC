{
 "cells": [
  {
   "cell_type": "markdown",
   "id": "60770c3d",
   "metadata": {},
   "source": [
    "##### Данные, с которыми мы будем работать — это обработанный датасет об объектах недвижимости в Мельбурне (Австралия) и его пригородах.\n",
    "\n",
    "File melb_data.csv\n",
    "\n",
    "1. index — номер строки\n",
    "2. Suburb — наименование пригорода\n",
    "3. Address — адрес\n",
    "4. Rooms — количество комнат в помещении\n",
    "5. Type — тип здания (h — дом, коттедж, вилла, терраса; u — блочный, дуплексный дом; t — таунхаус)\n",
    "6. Price — цена помещения\n",
    "7. Method — метод продажи \n",
    "8. SellerG — риэлторская компания\n",
    "9. Date — дата продажи (в формате день/месяц/год)\n",
    "10. Distance — расстояния до объекта от центра Мельбурна \n",
    "11. Postcode — почтовый индекс\n",
    "12. Bedroom — количество спален\n",
    "13. Bathroom — количество ванных комнат\n",
    "14. Car — количество парковочных мест\n",
    "15. Landsize — площадь прилегающей территории\n",
    "16. BuildingArea — площадь здания\n",
    "17. YearBuilt — год постройки\n",
    "18. CouncilArea — региональное управление\n",
    "19. Lattitude — географическая широта\n",
    "20. Longitude — географическая долгота\n",
    "21. Regionname — наименование района Мельбурна\n",
    "22. Propertycount — количество объектов недвижимости в районе, выставленных на продажу\n",
    "23. Coordinates — широта и долгота, объединённые в кортеж"
   ]
  },
  {
   "cell_type": "code",
   "execution_count": 25,
   "id": "3df7e556",
   "metadata": {},
   "outputs": [
    {
     "data": {
      "text/plain": [
       "3"
      ]
     },
     "metadata": {},
     "output_type": "display_data"
    }
   ],
   "source": [
    "import pandas as pd\n",
    "\n",
    "melb_data = pd.read_csv('data/melb_data.csv', sep=',')\n",
    "display(round(melb_data.loc[3521, 'Landsize']/melb_data.loc[1690, 'Landsize']))"
   ]
  }
 ],
 "metadata": {
  "kernelspec": {
   "display_name": "Python 3",
   "language": "python",
   "name": "python3"
  },
  "language_info": {
   "codemirror_mode": {
    "name": "ipython",
    "version": 3
   },
   "file_extension": ".py",
   "mimetype": "text/x-python",
   "name": "python",
   "nbconvert_exporter": "python",
   "pygments_lexer": "ipython3",
   "version": "3.12.3"
  }
 },
 "nbformat": 4,
 "nbformat_minor": 5
}
