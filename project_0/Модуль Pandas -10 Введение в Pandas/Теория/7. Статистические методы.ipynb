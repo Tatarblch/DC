{
 "cells": [
  {
   "cell_type": "markdown",
   "id": "2e1889b1",
   "metadata": {},
   "source": [
    "#### Агрегирующие методы"
   ]
  },
  {
   "cell_type": "markdown",
   "id": "3b63521e",
   "metadata": {},
   "source": [
    "Агрегирующим в Pandas называется метод, который для каждого столбца возвращает только одно значение — показатель (например, вычисление медианы, максимума, среднего и так далее).\n",
    "\n",
    "\n",
    "Метод\tСтатистический параметр\n",
    "\n",
    "- .count()\tКоличество непустых значений\n",
    "- .mean()\tСреднее значение\n",
    "- .min()\tМинимальное значение\n",
    "- .max()\tМаксимальное значение\n",
    "- .var()\tДисперсия\n",
    "- .std()\tСтандартное отклонение\n",
    "- .sum()\tСумма\n",
    "- .quantile(x)\tКвантиль уровня x\n",
    "- .nunique()\tЧисло уникальных значений\n",
    "\n",
    "Если один из этих методов применить ко всему DataFrame, то в результате его работы будет получен объект типа Series, в котором в качестве индексов будут выступать наименования столбцов, а в качестве значений — статистический показатель. В случае применения метода к отдельному столбцу результатом вычислений станет число.\n",
    "\n",
    "- axis  — определяет, подсчитывать параметр по строкам или по столбцам;\n",
    "- numeric_only — определяет, вычислять параметры только по числовым столбцам/строкам или нет (True/False).\n",
    "\n"
   ]
  },
  {
   "cell_type": "code",
   "execution_count": null,
   "id": "50bf3267",
   "metadata": {},
   "outputs": [
    {
     "name": "stdout",
     "output_type": "stream",
     "text": [
      "1075684.079455081\n",
      "10.0\n"
     ]
    }
   ],
   "source": [
    "import pandas as pd\n",
    "\n",
    "melb_data = pd.read_csv('data/melb_data.csv', sep=',')\n",
    "\n",
    "print(melb_data['Price'].mean()) # midle price\n",
    "print(melb_data['Car'].max()) #max car parking"
   ]
  },
  {
   "cell_type": "code",
   "execution_count": 6,
   "id": "c6b8baf2",
   "metadata": {},
   "outputs": [
    {
     "name": "stdout",
     "output_type": "stream",
     "text": [
      "Total income of real estate agencies: 1752934775.88\n"
     ]
    }
   ],
   "source": [
    "'''А теперь представим, что риэлторская ставка для всех компаний за продажу недвижимости составляет 12%. \n",
    "Найдём общую прибыльность риэлторского бизнеса в Мельбурне. Результат округлим до сотых:'''\n",
    "rate = 0.12\n",
    "income = melb_data['Price'].sum() * rate\n",
    "print(f'Total income of real estate agencies: {round(income, 2)}')"
   ]
  },
  {
   "cell_type": "code",
   "execution_count": null,
   "id": "b627ab3f",
   "metadata": {},
   "outputs": [
    {
     "name": "stdout",
     "output_type": "stream",
     "text": [
      "-21.205713983546193\n"
     ]
    }
   ],
   "source": [
    "'''Найдём, насколько медианная площадь территории отличается от её среднего значения. Вычислим модуль \n",
    "разницы между медианой и средним и разделим результат на среднее, чтобы получить отклонение в долях:'''\n",
    "\n",
    "landsize_median = melb_data['Landsize'].median()\n",
    "landsize_mean = melb_data['Landsize'].mean()\n",
    "print((landsize_median - landsize_mean)/landsize_mean*100)\n",
    "\n",
    "'''В результате получаем долю отклонения медианы от среднего значения. Умножив результат на 100, \n",
    "получим его в процентах. Отклонение медианы от среднего значения на 21% является довольно большим, \n",
    "и это повод задуматься над тем, чтобы исследовать признак на наличие аномалий. '''"
   ]
  },
  {
   "cell_type": "markdown",
   "id": "a57f1d7d",
   "metadata": {},
   "source": [
    "#### Модальное значение"
   ]
  },
  {
   "cell_type": "markdown",
   "id": "be861162",
   "metadata": {},
   "source": [
    "Отдельный интерес представляет статический показатель моды — самого распространённого значения в столбце. Он вычисляется с помощью метода mode().\n",
    "\n",
    "Модальных значений может быть несколько, то есть несколько значений могут встречаться одинаковое количество раз. Поэтому метод mode(), в отличие от агрегирующих методов, возвращает не одно число, а серию.\n",
    "\n",
    "Вычислим, какое число комнат чаще всего представлено на рынке недвижимости:"
   ]
  },
  {
   "cell_type": "code",
   "execution_count": 15,
   "id": "8fc43400",
   "metadata": {},
   "outputs": [
    {
     "name": "stdout",
     "output_type": "stream",
     "text": [
      "0    3\n",
      "Name: Rooms, dtype: int64\n"
     ]
    }
   ],
   "source": [
    "print(melb_data['Rooms'].mode())"
   ]
  },
  {
   "cell_type": "markdown",
   "id": "3707566f",
   "metadata": {},
   "source": [
    "Примечание. Метод mode() может быть использован не только с числовыми столбцами, но и со столбцами типа object. Так, например, с помощью следующего кода можно найти наиболее распространённое название района:"
   ]
  },
  {
   "cell_type": "code",
   "execution_count": 16,
   "id": "d9403942",
   "metadata": {},
   "outputs": [
    {
     "data": {
      "text/plain": [
       "0    Southern Metropolitan\n",
       "Name: Regionname, dtype: object"
      ]
     },
     "execution_count": 16,
     "metadata": {},
     "output_type": "execute_result"
    }
   ],
   "source": [
    "melb_data['Regionname'].mode()"
   ]
  },
  {
   "cell_type": "code",
   "execution_count": 17,
   "id": "84d493be",
   "metadata": {},
   "outputs": [
    {
     "name": "stdout",
     "output_type": "stream",
     "text": [
      "21650.0\n"
     ]
    }
   ],
   "source": [
    "# Чему равно максимальное количество домов на продажу в районе (Propertycount)?\n",
    "print(melb_data['Propertycount'].max())"
   ]
  },
  {
   "cell_type": "code",
   "execution_count": null,
   "id": "f6df0b12",
   "metadata": {},
   "outputs": [
    {
     "name": "stdout",
     "output_type": "stream",
     "text": [
      "5.868724943071692\n"
     ]
    }
   ],
   "source": [
    "# Чему равно стандартное отклонение (разброс) расстояния от центра города до объекта недвижимости?\n",
    "#  округлить до целых\n",
    "print(melb_data['Distance'].std())"
   ]
  },
  {
   "cell_type": "code",
   "execution_count": 21,
   "id": "5ed9453e",
   "metadata": {},
   "outputs": [
    {
     "name": "stdout",
     "output_type": "stream",
     "text": [
      "-9.764079662364534\n"
     ]
    }
   ],
   "source": [
    "area_std = melb_data['BuildingArea'].median()\n",
    "house_mean = melb_data['BuildingArea'].mean()\n",
    "print((area_std - house_mean)/house_mean *100)"
   ]
  },
  {
   "cell_type": "code",
   "execution_count": null,
   "id": "d06a09b2",
   "metadata": {},
   "outputs": [
    {
     "name": "stdout",
     "output_type": "stream",
     "text": [
      "0    2\n",
      "dtype: int64\n"
     ]
    }
   ],
   "source": [
    "# Задан ряд чисел [1, 2, 4, 2, 3, 2, 1, 5, 6]. Чему равна мода в данном ряду?\n",
    "line = [1, 2, 4, 2, 3, 2, 1, 5, 6]\n",
    "print(pd.Series(line).mode())"
   ]
  },
  {
   "cell_type": "code",
   "execution_count": null,
   "id": "e7820a91",
   "metadata": {},
   "outputs": [
    {
     "name": "stdout",
     "output_type": "stream",
     "text": [
      "0    3.0\n",
      "Name: Bedroom, dtype: float64\n"
     ]
    }
   ],
   "source": [
    "# Сколько спален чаще всего встречается в домах в Мельбурне?\n",
    "print(melb_data['Bedroom'].mode())"
   ]
  }
 ],
 "metadata": {
  "kernelspec": {
   "display_name": "Python 3",
   "language": "python",
   "name": "python3"
  },
  "language_info": {
   "codemirror_mode": {
    "name": "ipython",
    "version": 3
   },
   "file_extension": ".py",
   "mimetype": "text/x-python",
   "name": "python",
   "nbconvert_exporter": "python",
   "pygments_lexer": "ipython3",
   "version": "3.12.3"
  }
 },
 "nbformat": 4,
 "nbformat_minor": 5
}
