{
 "cells": [
  {
   "cell_type": "markdown",
   "metadata": {},
   "source": [
    "# Collections"
   ]
  },
  {
   "cell_type": "code",
   "execution_count": null,
   "metadata": {},
   "outputs": [
    {
     "name": "stdout",
     "output_type": "stream",
     "text": [
      "Counter({'red': 3, 'black': 3, 'blue': 2, 'white': 1})\n",
      "Всего белых автомобилей: 1\n",
      "9\n",
      "dict_values([3, 2, 3, 1])\n"
     ]
    }
   ],
   "source": [
    "from collections import Counter\n",
    "# Создаём пустой объект Counter\n",
    "c = Counter()\n",
    "c['red'] += 1\n",
    "\n",
    "cars = ['red', 'blue', 'black', 'black', 'black', 'red', 'blue', 'red', 'white']\n",
    "c = Counter(cars)\n",
    "\n",
    "print(c)\n",
    "print(f'Всего белых автомобилей: {c['white']}')\n",
    "\n",
    "#Узнать сумму всех значений в объекте Counter можно, воспользовавшись следующей конструкцией\n",
    "print(sum(c.values()))\n",
    "\n",
    "# Данные по всем ключам\n",
    "print(c.values())"
   ]
  },
  {
   "cell_type": "code",
   "execution_count": 1,
   "metadata": {},
   "outputs": [
    {
     "ename": "NameError",
     "evalue": "name 'Counter' is not defined",
     "output_type": "error",
     "traceback": [
      "\u001b[0;31m---------------------------------------------------------------------------\u001b[0m",
      "\u001b[0;31mNameError\u001b[0m                                 Traceback (most recent call last)",
      "Cell \u001b[0;32mIn[1], line 7\u001b[0m\n\u001b[1;32m      4\u001b[0m cars_moscow \u001b[38;5;241m=\u001b[39m [\u001b[38;5;124m'\u001b[39m\u001b[38;5;124mblack\u001b[39m\u001b[38;5;124m'\u001b[39m, \u001b[38;5;124m'\u001b[39m\u001b[38;5;124mblack\u001b[39m\u001b[38;5;124m'\u001b[39m, \u001b[38;5;124m'\u001b[39m\u001b[38;5;124mwhite\u001b[39m\u001b[38;5;124m'\u001b[39m, \u001b[38;5;124m'\u001b[39m\u001b[38;5;124mblack\u001b[39m\u001b[38;5;124m'\u001b[39m, \u001b[38;5;124m'\u001b[39m\u001b[38;5;124mblack\u001b[39m\u001b[38;5;124m'\u001b[39m, \u001b[38;5;124m'\u001b[39m\u001b[38;5;124mwhite\u001b[39m\u001b[38;5;124m'\u001b[39m, \u001b[38;5;124m'\u001b[39m\u001b[38;5;124myellow\u001b[39m\u001b[38;5;124m'\u001b[39m, \u001b[38;5;124m'\u001b[39m\u001b[38;5;124myellow\u001b[39m\u001b[38;5;124m'\u001b[39m, \u001b[38;5;124m'\u001b[39m\u001b[38;5;124myellow\u001b[39m\u001b[38;5;124m'\u001b[39m]\n\u001b[1;32m      5\u001b[0m cars_spb \u001b[38;5;241m=\u001b[39m [\u001b[38;5;124m'\u001b[39m\u001b[38;5;124mred\u001b[39m\u001b[38;5;124m'\u001b[39m, \u001b[38;5;124m'\u001b[39m\u001b[38;5;124mblack\u001b[39m\u001b[38;5;124m'\u001b[39m, \u001b[38;5;124m'\u001b[39m\u001b[38;5;124mblack\u001b[39m\u001b[38;5;124m'\u001b[39m, \u001b[38;5;124m'\u001b[39m\u001b[38;5;124mwhite\u001b[39m\u001b[38;5;124m'\u001b[39m, \u001b[38;5;124m'\u001b[39m\u001b[38;5;124mwhite\u001b[39m\u001b[38;5;124m'\u001b[39m, \u001b[38;5;124m'\u001b[39m\u001b[38;5;124myellow\u001b[39m\u001b[38;5;124m'\u001b[39m, \u001b[38;5;124m'\u001b[39m\u001b[38;5;124myellow\u001b[39m\u001b[38;5;124m'\u001b[39m, \u001b[38;5;124m'\u001b[39m\u001b[38;5;124mred\u001b[39m\u001b[38;5;124m'\u001b[39m, \u001b[38;5;124m'\u001b[39m\u001b[38;5;124mwhite\u001b[39m\u001b[38;5;124m'\u001b[39m]\n\u001b[0;32m----> 7\u001b[0m counter_moscow \u001b[38;5;241m=\u001b[39m \u001b[43mCounter\u001b[49m(cars_moscow)\n\u001b[1;32m      8\u001b[0m counter_spb \u001b[38;5;241m=\u001b[39m Counter(cars_spb)\n\u001b[1;32m     10\u001b[0m \u001b[38;5;28mprint\u001b[39m(counter_moscow)\n",
      "\u001b[0;31mNameError\u001b[0m: name 'Counter' is not defined"
     ]
    }
   ],
   "source": [
    "# Допустим, вы с другом из другого города решили посчитать \n",
    "# количество цветов встреченных на дороге машин. У вас получились такие списки цветов:\n",
    "\n",
    "cars_moscow = ['black', 'black', 'white', 'black', 'black', 'white', 'yellow', 'yellow', 'yellow']\n",
    "cars_spb = ['red', 'black', 'black', 'white', 'white', 'yellow', 'yellow', 'red', 'white']\n",
    "\n",
    "counter_moscow = Counter(cars_moscow)\n",
    "counter_spb = Counter(cars_spb)\n",
    "\n",
    "print(counter_moscow)\n",
    "print(counter_spb)\n",
    "\n",
    "\"\"\"Чтобы получить список всех элементов, которые содержатся в Counter, используется функция elements(). \n",
    "Она возвращает итератор, поэтому, чтобы напечатать все элементы, распакуем их с помощью *:\"\"\"\n",
    "\n",
    "print(*counter_moscow.elements())\n",
    "# black black black black white white yellow yellow yello\n",
    "\n",
    "#Сложить результат по городам\n",
    "print(counter_moscow + counter_spb)\n",
    "\n",
    "# Вычитает результат\n",
    "counter_moscow.subtract(counter_spb)\n",
    "print(counter_moscow)\n",
    "# Если пойти вычитание - быдет результат  Counter({'black': 2, 'yellow': 1})"
   ]
  },
  {
   "cell_type": "code",
   "execution_count": 10,
   "metadata": {},
   "outputs": [
    {
     "name": "stdout",
     "output_type": "stream",
     "text": [
      "['black', 'white', 'yellow', 'red']\n",
      "{'black': 2, 'white': -1, 'yellow': 1, 'red': -2}\n",
      "[('black', 2), ('yellow', 1), ('white', -1), ('red', -2)]\n",
      "[('black', 2), ('yellow', 1)]\n",
      "Counter()\n"
     ]
    }
   ],
   "source": [
    "''' Чтобы получить список уникальных элементов, достаточно воспользоваться функцией list():'''\n",
    "print(list(counter_moscow))\n",
    "# ['black', 'white', 'yellow']\n",
    "\n",
    "#  помощью функции dict() можно превратить Counter в обычный словарь:\n",
    "print(dict(counter_moscow))\n",
    "# {'black': 2, 'white': -1, 'yellow': 1, 'red': -2}\n",
    "\n",
    "#Функция most_common() позволяет получить список из кортежей элементов в порядке убывания их встречаемости:\n",
    "print(counter_moscow.most_common())\n",
    "# [('black', 2), ('yellow', 1), ('white', -1), ('red', -2)]\n",
    "#В неё также можно передать значение, которое задаёт желаемое число первых наиболее частых элементов, например, 2:\n",
    "print(counter_moscow.most_common(2))\n",
    "# [('black', 2), ('yellow', 1)]\n",
    "\n",
    "#Наконец, функция clear() позволяет полностью обнулить счётчик:\n",
    "counter_moscow.clear()\n",
    "print(counter_moscow)\n",
    "# Counter()"
   ]
  },
  {
   "cell_type": "markdown",
   "metadata": {},
   "source": [
    "# Defaultdict"
   ]
  },
  {
   "cell_type": "code",
   "execution_count": null,
   "metadata": {},
   "outputs": [
    {
     "name": "stdout",
     "output_type": "stream",
     "text": [
      "{1: ['Ivanov', 'Kuznetsova'], 4: ['Smirnov'], 3: ['Petrov', 'Markov'], 2: ['Nikitina', 'Pavlov']}\n"
     ]
    }
   ],
   "source": [
    "# Можно ли было сделать проще чем этот код? Да!\n",
    "students = [('Ivanov',1),('Smirnov',4),('Petrov',3),('Kuznetsova',1),\n",
    "            ('Nikitina',2),('Markov',3),('Pavlov',2)]\n",
    "\n",
    "groups = dict()\n",
    " \n",
    "for student, group in students:\n",
    "    # Проверяем, есть ли уже эта группа в словаре\n",
    "    if group not in groups:\n",
    "        # Если группы ещё нет в словаре, создаём для неё пустой список\n",
    "        groups[group] = list()\n",
    "    groups[group].append(student)\n",
    " \n",
    "print(groups)\n",
    "# {1: ['Ivanov', 'Kuznetsova'], 4: ['Smirnov'], 3: ['Petrov', 'Markov'], 2: ['Nikitina', 'Pavlov']}"
   ]
  },
  {
   "cell_type": "code",
   "execution_count": null,
   "metadata": {},
   "outputs": [
    {
     "name": "stdout",
     "output_type": "stream",
     "text": [
      "defaultdict(<class 'list'>, {1: ['Ivanov', 'Kuznetsova'], 4: ['Smirnov'], 3: ['Petrov', 'Markov'], 2: ['Nikitina', 'Pavlov']})\n"
     ]
    }
   ],
   "source": [
    "from collections import defaultdict\n",
    "\n",
    "groups = defaultdict(list)\n",
    "for student, group in students:\n",
    "    groups[group].append(student)\n",
    " \n",
    "print(groups)\n",
    "# defaultdict(<class 'list'>, {1: ['Ivanov', 'Kuznetsova'], \n",
    "# 4: ['Smirnov'], 3: ['Petrov', 'Markov'], 2: ['Nikitina', 'Pavlov']})"
   ]
  },
  {
   "cell_type": "code",
   "execution_count": 8,
   "metadata": {},
   "outputs": [
    {
     "name": "stdout",
     "output_type": "stream",
     "text": [
      "['Petrov', 'Markov']\n",
      "[]\n",
      "defaultdict(<class 'list'>, {1: ['Ivanov', 'Kuznetsova'], 4: ['Smirnov'], 3: ['Petrov', 'Markov'], 2: ['Nikitina', 'Pavlov'], 2021: []})\n",
      "<class 'dict'>\n",
      "<class 'collections.defaultdict'>\n",
      "{}\n",
      "defaultdict(None, {})\n"
     ]
    }
   ],
   "source": [
    "# Получить элемент из defaultdict по ключу можно так же, как и из обычного словаря:\n",
    "print(groups[3])\n",
    "# ['Petrov', 'Markov']\n",
    "\n",
    "'''Если запрашиваемого ключа нет в словаре, KeyError не возникнет. \n",
    "Вместо этого будет напечатан пустой элемент, который создаётся в словаре по умолчанию:'''\n",
    "\n",
    "print(groups[2021])\n",
    "# []\n",
    "\n",
    "'''Теперь в словаре groups автоматически \n",
    "появился элемент 2021 с пустым списком внутри, несмотря на то что мы его не создавали:'''\n",
    "print(groups)\n",
    "# defaultdict(<class 'list'>, {1: ['Ivanov', 'Kuznetsova'], \n",
    "# 4: ['Smirnov'], 3: ['Petrov', 'Markov'], 2: ['Nikitina', 'Pavlov'], 2021: []})\n",
    "\n",
    "'''Итак, вы обратили внимание, что поведение defaultdict в коде отличается от обычного словаря dict. \n",
    "Узнать, с каким именно словарём мы имеем дело в коде, можно с помощью встроенной функции type:'''\n",
    "\n",
    "dict_object = dict()\n",
    "defaultdict_object = defaultdict()\n",
    " \n",
    "print(type(dict_object))\n",
    "# <class 'dict'>\n",
    "print(type(defaultdict_object))\n",
    "# <class 'collections.defaultdict'>\n",
    "# Видно, что типы переменных dict_object и defaultdict_object отличаются.\n",
    "\n",
    "print(dict_object)\n",
    "# {}\n",
    "print(defaultdict_object)\n",
    "# defaultdict(None, {})"
   ]
  }
 ],
 "metadata": {
  "kernelspec": {
   "display_name": "Python 3",
   "language": "python",
   "name": "python3"
  },
  "language_info": {
   "codemirror_mode": {
    "name": "ipython",
    "version": 3
   },
   "file_extension": ".py",
   "mimetype": "text/x-python",
   "name": "python",
   "nbconvert_exporter": "python",
   "pygments_lexer": "ipython3",
   "version": "3.12.3"
  }
 },
 "nbformat": 4,
 "nbformat_minor": 2
}
