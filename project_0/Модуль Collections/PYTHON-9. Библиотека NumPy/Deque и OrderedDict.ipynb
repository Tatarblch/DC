{
 "cells": [
  {
   "cell_type": "markdown",
   "metadata": {},
   "source": [
    "# Введение"
   ]
  },
  {
   "cell_type": "code",
   "execution_count": 48,
   "metadata": {},
   "outputs": [
    {
     "data": {
      "text/plain": [
       "'В предыдущем юните вы начали знакомство с модулем collections, предоставляющим \\nдоступ к дополнительным структурам данных, которые упрощают написание кода и позволяют быстрее решать \\nчасто возникающие задачи. Вы освоили инструменты Counter и defaultdict.\\n\\nОбъект Counter позволяет подсчитывать количество различных элементов и работать с полученными значениями.\\nDefaultdict удобно использовать в том случае, когда требуется хранить по ключам в словаре изменяемый тип \\nданных вроде list, set или ещё одного dict.\\nВ этом юните мы продолжим осваивать возможности модуля collections.\\n\\nВы познакомитесь с инструментом deque, который позволяет работать с очередью элементов, и узнаете о \\nтаких структурах данных, как очередь и рюкзак (он же стек).\\nТакже вы освоите ещё один словарь — OrderedDict. Он гарантирует сохранение ключей в том порядке, \\nв котором их добавляли в словарь.\\nВы научитесь:\\n\\nсоздавать объекты deque и OrderedDict;\\nприменять возможности очереди и стека на практике;\\nопределять ситуации, в которых необходимо использовать новые изученные объекты вместо привычных list и dict.'"
      ]
     },
     "execution_count": 48,
     "metadata": {},
     "output_type": "execute_result"
    }
   ],
   "source": [
    "'''В предыдущем юните вы начали знакомство с модулем collections, предоставляющим \n",
    "доступ к дополнительным структурам данных, которые упрощают написание кода и позволяют быстрее решать \n",
    "часто возникающие задачи. Вы освоили инструменты Counter и defaultdict.\n",
    "\n",
    "Объект Counter позволяет подсчитывать количество различных элементов и работать с полученными значениями.\n",
    "Defaultdict удобно использовать в том случае, когда требуется хранить по ключам в словаре изменяемый тип \n",
    "данных вроде list, set или ещё одного dict.\n",
    "В этом юните мы продолжим осваивать возможности модуля collections.\n",
    "\n",
    "Вы познакомитесь с инструментом deque, который позволяет работать с очередью элементов, и узнаете о \n",
    "таких структурах данных, как очередь и рюкзак (он же стек).\n",
    "Также вы освоите ещё один словарь — OrderedDict. Он гарантирует сохранение ключей в том порядке, \n",
    "в котором их добавляли в словарь.\n",
    "Вы научитесь:\n",
    "\n",
    "создавать объекты deque и OrderedDict;\n",
    "применять возможности очереди и стека на практике;\n",
    "определять ситуации, в которых необходимо использовать новые изученные объекты вместо привычных list и dict.'''"
   ]
  },
  {
   "cell_type": "markdown",
   "metadata": {},
   "source": [
    "# OrderedDict"
   ]
  },
  {
   "cell_type": "code",
   "execution_count": null,
   "metadata": {},
   "outputs": [
    {
     "name": "stdout",
     "output_type": "stream",
     "text": [
      "OrderedDict({'Ivan': 19, 'Mark': 25, 'Andrey': 23, 'Maria': 20})\n"
     ]
    }
   ],
   "source": [
    "# Специальный словарь, который гарантирует сохранение ключей в порядке их добавления, называется OrderedDict:\n",
    "\n",
    "from collections import OrderedDict\n",
    "data = [('Ivan', 19),('Mark', 25),('Andrey', 23),('Maria', 20)]\n",
    "ordered_client_ages = OrderedDict(data)\n",
    "print(ordered_client_ages)\n",
    "# По результатам 3 повторов получились вот такие результаты:\n",
    "# OrderedDict([('Ivan', 19), ('Mark', 25), ('Andrey', 23), ('Maria', 20)])\n",
    "# OrderedDict([('Ivan', 19), ('Mark', 25), ('Andrey', 23), ('Maria', 20)])\n",
    "# OrderedDict([('Ivan', 19), ('Mark', 25), ('Andrey', 23), ('Maria', 20)])\n"
   ]
  },
  {
   "cell_type": "code",
   "execution_count": 35,
   "metadata": {},
   "outputs": [
    {
     "name": "stdout",
     "output_type": "stream",
     "text": [
      "OrderedDict({'Ivan': 19, 'Maria': 20, 'Andrey': 23, 'Mark': 25})\n",
      "OrderedDict({'Ivan': 19, 'Maria': 20, 'Andrey': 23, 'Mark': 25, 'Nikita': 18})\n",
      "OrderedDict({'Ivan': 19, 'Maria': 20, 'Mark': 25, 'Nikita': 18})\n",
      "OrderedDict({'Ivan': 19, 'Maria': 20, 'Mark': 25, 'Nikita': 18, 'Andrey': 23})\n"
     ]
    }
   ],
   "source": [
    "'''Можно, например, отсортировать с помощью функции \n",
    "sorted список кортежей при создании из него OrderedDict, и объекты будут добавлены в порядке сортировки:'''\n",
    "\n",
    "data = [('Ivan', 19),('Mark', 25),('Andrey', 23),('Maria', 20)]\n",
    "# Сортируем по второму значению из кортежа, то есть по возрасту\n",
    "ordered_client_ages = OrderedDict(sorted(data, key=lambda x: x[1]))\n",
    "print(ordered_client_ages)\n",
    "# OrderedDict([('Ivan', 19), ('Maria', 20), ('Andrey', 23), ('Mark', 25)])\n",
    "\n",
    "ordered_client_ages['Nikita'] = 18\n",
    "print(ordered_client_ages)\n",
    "# OrderedDict([('Ivan', 19), ('Maria', 20), ('Andrey', 23), ('Mark', 25), ('Nikita', 18)])\n",
    "\n",
    "del ordered_client_ages['Andrey']\n",
    "print(ordered_client_ages)\n",
    "# OrderedDict([('Ivan', 19), ('Mark', 25), ('Maria', 20), ('Nikita', 18)])\n",
    "ordered_client_ages['Andrey'] = 23\n",
    "print(ordered_client_ages)\n",
    "# OrderedDict([('Ivan', 19), ('Mark', 25), ('Maria', 20), ('Nikita', 18), ('Andrey', 23)])\n"
   ]
  },
  {
   "cell_type": "code",
   "execution_count": 36,
   "metadata": {},
   "outputs": [
    {
     "data": {
      "text/plain": [
       "'Начиная с версии Python 3.7, гарантируется сохранение ключей в том порядке, в котором они добавлялись \\nв словарь. Однако вам следует помнить о том, что в более старых версиях Python порядок ключей не сохраняется. \\nЭто важно для обратной совместимости, то есть для корректной работы программы со старыми версиями \\nинтерпретатора. Например, если требуется, чтобы код работал и с версиями Python старше 3.7, \\nи в нём используется очерёдность ключей в словаре, необходимо создавать OrderedDict вместо dict.'"
      ]
     },
     "execution_count": 36,
     "metadata": {},
     "output_type": "execute_result"
    }
   ],
   "source": [
    "'''Начиная с версии Python 3.7, гарантируется сохранение ключей в том порядке, в котором они добавлялись \n",
    "в словарь. Однако вам следует помнить о том, что в более старых версиях Python порядок ключей не сохраняется. \n",
    "Это важно для обратной совместимости, то есть для корректной работы программы со старыми версиями \n",
    "интерпретатора. Например, если требуется, чтобы код работал и с версиями Python старше 3.7, \n",
    "и в нём используется очерёдность ключей в словаре, необходимо создавать OrderedDict вместо dict.'''"
   ]
  },
  {
   "cell_type": "markdown",
   "metadata": {},
   "source": [
    "# Deque"
   ]
  },
  {
   "cell_type": "code",
   "execution_count": null,
   "metadata": {},
   "outputs": [],
   "source": [
    "from collections import deque\n",
    "dq = deque()\n",
    "print(dq)\n",
    "# deque([])\n",
    "\n",
    "'''У deque есть четыре ключевые функции:\n",
    "\n",
    "append (добавить элемент в конец дека);\n",
    "appendleft (добавить элемент в начало дека);\n",
    "pop (удалить и вернуть элемент из конца дека);\n",
    "popleft (удалить и вернуть элемент из начала дека).\n",
    "\n",
    "Доп фенукии\n",
    "extend (добавить в конец дека) \n",
    "extendleft (добавить в начало дека)\n",
    "maxlen (максимальная длинна)\n",
    "reverse (позволяет поменять порядок элементов в очереди на обратный)\n",
    "rotate (переносит n заданных элементов из конца очереди в начало, \n",
    "элементы можно переносить и из начала в конец через '-' минус)\n",
    "index (позволяет найти первый индекс искомого элемента)\n",
    "count (позволяет подсчитать, сколько раз элемент встретился в очереди)\n",
    "clear (позволяет очистить очередь)\n",
    "'''"
   ]
  },
  {
   "cell_type": "code",
   "execution_count": null,
   "metadata": {},
   "outputs": [
    {
     "name": "stdout",
     "output_type": "stream",
     "text": [
      "deque(['Ivanov', 'Petrov', 'Smirnov', 'Tikhonova'])\n",
      "First client: Ivanov\n",
      "Second client: Petrov\n",
      "deque(['Smirnov', 'Tikhonova'])\n",
      "deque(['Vip-client', 'Smirnov', 'Tikhonova'])\n",
      "Tikhonova left the queue\n",
      "deque(['Vip-client', 'Smirnov'])\n"
     ]
    }
   ],
   "source": [
    "'''Пример кол центр - образовалась очередь'''\n",
    "clients = deque()\n",
    "clients.append('Ivanov')\n",
    "clients.append('Petrov')\n",
    "clients.append('Smirnov')\n",
    "clients.append('Tikhonova')\n",
    "print(clients)\n",
    "# deque(['Ivanov', 'Petrov', 'Smirnov', 'Tikhonova'])\n",
    "\n",
    "'''Освободилось два оператора — заберём двоих человек из начала очереди с помощью popleft:'''\n",
    "first_client = clients.popleft()\n",
    "second_client = clients.popleft()\n",
    " \n",
    "print(\"First client:\", first_client)\n",
    "print(\"Second client:\", second_client)\n",
    "print(clients)\n",
    "# First client: Ivanov\n",
    "# Second client: Petrov\n",
    "# deque(['Smirnov', 'Tikhonova'])\n",
    "\n",
    "'''Появился VIP,  его надо добавить в очередь первым'''\n",
    "clients.appendleft('Vip-client')\n",
    " \n",
    "print(clients)\n",
    "# deque(['Vip-client', 'Smirnov', 'Tikhonova'])\n",
    "\n",
    "'''Последний клиент в очереди устал ждать и отменил вызов. Удалим его с помощью pop:'''\n",
    "tired_client = clients.pop()\n",
    "print(tired_client, \"left the queue\")\n",
    "print(clients)\n",
    "# Tikhonova left the queue\n",
    "# deque(['Vip-client', 'Smirnov'])\n",
    "\n"
   ]
  },
  {
   "cell_type": "code",
   "execution_count": 60,
   "metadata": {},
   "outputs": [
    {
     "name": "stdout",
     "output_type": "stream",
     "text": [
      "deque(['Ivanov', 'Petrov', 'Smirnov', 'Tikhonova'])\n",
      "deque(['Ivanov', 'Petrov', 'Tikhonova'])\n"
     ]
    }
   ],
   "source": [
    "'''Чтобы удалить конкретный элемент по индексу, необходимо воспользоваться встроенной конструкцией del:'''\n",
    "clients = deque(['Ivanov', 'Petrov', 'Smirnov', 'Tikhonova'])\n",
    "print(clients)\n",
    "# deque(['Ivanov', 'Petrov', 'Smirnov', 'Tikhonova'])\n",
    "del clients[2]\n",
    "print(clients)\n",
    "# deque(['Ivanov', 'Petrov', 'Tikhonova'])"
   ]
  },
  {
   "cell_type": "code",
   "execution_count": 61,
   "metadata": {},
   "outputs": [
    {
     "name": "stdout",
     "output_type": "stream",
     "text": [
      "deque([1, 2, 3, 4, 5])\n",
      "deque([1, 2, 3, 4, 5, 11, 12, 13, 14, 15, 16, 17])\n",
      "deque([1, 2, 3, 4, 5])\n",
      "deque([17, 16, 15, 14, 13, 12, 11, 1, 2, 3, 4, 5])\n"
     ]
    },
    {
     "data": {
      "text/plain": [
       "'Обратите внимание, что «клиенты из автобуса» оказались в очереди не в том порядке, \\nв каком они «выходили из автобуса». То есть добавленные номера не только приписаны перед \\nзаписанными в очереди номерами, но также порядок добавленных элементов поменялся на обратный. \\nЭто связано с тем, что действие функции extendleft аналогично многократному применению функции appendleft, \\nпоэтому самый последний клиент из автобуса оказался в итоге первым в очереди.'"
      ]
     },
     "execution_count": 61,
     "metadata": {},
     "output_type": "execute_result"
    }
   ],
   "source": [
    "# В скобках передаём список при создании deque,\n",
    "# чтобы сразу добавить все его элементы в очередь\n",
    "shop = deque([1, 2, 3, 4, 5])\n",
    "print(shop)\n",
    "# deque([1, 2, 3, 4, 5])\n",
    "shop.extend([11, 12, 13, 14, 15, 16, 17])\n",
    "print(shop)\n",
    "# deque([1, 2, 3, 4, 5, 11, 12, 13, 14, 15, 16, 17])\n",
    "\n",
    "# Сделаем из них VIP клиентов и добавим в начало очереди\n",
    "shop = deque([1, 2, 3, 4, 5])\n",
    "print(shop)\n",
    "# deque([1, 2, 3, 4, 5])\n",
    "shop.extendleft([11, 12, 13, 14, 15, 16, 17])\n",
    "print(shop)\n",
    "# deque([17, 16, 15, 14, 13, 12, 11, 1, 2, 3, 4, 5])\n",
    "\n",
    "'''Обратите внимание, что «клиенты из автобуса» оказались в очереди не в том порядке, \n",
    "в каком они «выходили из автобуса». То есть добавленные номера не только приписаны перед \n",
    "записанными в очереди номерами, но также порядок добавленных элементов поменялся на обратный. \n",
    "Это связано с тем, что действие функции extendleft аналогично многократному применению функции appendleft, \n",
    "поэтому самый последний клиент из автобуса оказался в итоге первым в очереди.'''"
   ]
  },
  {
   "cell_type": "code",
   "execution_count": 62,
   "metadata": {},
   "outputs": [
    {
     "name": "stdout",
     "output_type": "stream",
     "text": [
      "deque([], maxlen=3)\n",
      "deque([5, 6, 7], maxlen=3)\n",
      "deque([1, 2, 3], maxlen=3)\n",
      "None\n",
      "deque([2, 3, 8], maxlen=3)\n"
     ]
    }
   ],
   "source": [
    "limited = deque(maxlen=3)\n",
    "print(limited)\n",
    "# deque([], maxlen=3)\n",
    "\n",
    "# в очереди с ограниченной длиной сохраняются только последние элементы, а первые исчезают из памяти \n",
    "limited_from_list = deque([1,3,4,5,6,7], maxlen=3)\n",
    "print(limited_from_list)\n",
    "# deque([5, 6, 7], maxlen=3)\n",
    "\n",
    "limited.extend([1,2,3])\n",
    "print(limited)\n",
    "# deque([1, 2, 3], maxlen=3)\n",
    " \n",
    "print(limited.append(8))\n",
    "# None\n",
    "print(limited)\n",
    "# deque([2, 3, 8], maxlen=3)"
   ]
  },
  {
   "cell_type": "code",
   "execution_count": 63,
   "metadata": {},
   "outputs": [
    {
     "name": "stdout",
     "output_type": "stream",
     "text": [
      "20.77; 21.27; 22.16; 23.3; 24.44; 24.94; 25.56; 26.2; 25.97; 25.94; 25.57; 25.1; 24.81; 24.21; 23.23; 22.57; 21.41; 20.4; 19.6; 19.1; 19.04; 18.96; 19.44; 20.01; 20.67; \n"
     ]
    }
   ],
   "source": [
    "# Температура по дням\n",
    "temps = [20.6, 19.4, 19.0, 19.0, 22.1,\n",
    "        22.5, 22.8, 24.1, 25.6, 27.0,\n",
    "        27.0, 25.6, 26.8, 27.3, 22.5,\n",
    "        25.4, 24.4, 23.7, 23.6, 22.6,\n",
    "        20.4, 17.9, 17.3, 17.3, 18.1,\n",
    "        20.1, 22.2, 19.8, 21.3, 21.3,\n",
    "        21.9]\n",
    "\n",
    "# Посчитаем динамику средней температуры с усреднением за каждые последние 7 дней\n",
    "# для каждого рассматриваемого дня\n",
    "days = deque(maxlen=7)\n",
    " \n",
    "for temp in temps:\n",
    "    # Добавляем температуру в очередь\n",
    "    days.append(temp)\n",
    "    # Если длина очереди оказалась равной максимальной длине очереди (7),\n",
    "    # печатаем среднюю температуру за последние 7 дней\n",
    "    if len(days) == days.maxlen:\n",
    "        print(round(sum(days) / len(days), 2), end='; ')\n",
    "# Напечатаем пустую строку, чтобы завершить действие параметра\n",
    "# end. Иначе следующая строка окажется напечатанной на предыдущей\n",
    "print(\"\")\n",
    "# Результат:\n",
    "# 20.77; 21.27; 22.16; 23.3; 24.44; 24.94; 25.56; 26.2; 25.97;\n",
    "# 25.94; 25.57; 25.1; 24.81; 24.21; 23.23; 22.57; 21.41; 20.4;\n",
    "# 19.6; 19.1; 19.04; 18.96; 19.44; 20.01; 20.67;"
   ]
  },
  {
   "cell_type": "markdown",
   "metadata": {},
   "source": [
    "# Practic"
   ]
  },
  {
   "cell_type": "code",
   "execution_count": null,
   "metadata": {},
   "outputs": [
    {
     "name": "stdout",
     "output_type": "stream",
     "text": [
      "OrderedDict({'2001': -2.5, '2000': -4.4, '2002': -4.4, '2003': -9.5})\n",
      "OrderedDict({'2001': -2.5, '2000': -4.4, '2002': -4.4, '2003': -9.5})\n"
     ]
    }
   ],
   "source": [
    "'''Напишите функцию check(temps), которая будет выводить словарь, в котором ключи — годы,\n",
    "а значения — показатели температуры. Ключи необходимо отсортировать в порядке убывания соответствующих\n",
    "им температур.'''\n",
    "\n",
    "# My answer\n",
    "from collections import OrderedDict\n",
    "\n",
    "def check(temps):\n",
    "    od_temps = OrderedDict(sorted(temps, key=lambda x: x[1], reverse=True))\n",
    "    return od_temps       \n",
    "\n",
    "temps = [('2000', -4.4), ('2001', -2.5), ('2002', -4.4), ('2003', -9.5)]\n",
    "print(check(temps))\n",
    "\n",
    "# Course answer\n",
    "from collections import OrderedDict\n",
    "temps = [('2000', -4.4), ('2001', -2.5), ('2002', -4.4), ('2003', -9.5)]\n",
    "\n",
    "def check(temps):\n",
    "    temps.sort(key=lambda x: x[1], reverse=True)\n",
    "    od = OrderedDict(temps)\n",
    "    od = str(od)\n",
    "    return od\n",
    "temps = [('2000', -4.4), ('2001', -2.5), ('2002', -4.4), ('2003', -9.5)]\n",
    "print(check(temps))\n"
   ]
  },
  {
   "cell_type": "code",
   "execution_count": null,
   "metadata": {},
   "outputs": [],
   "source": [
    "# My answer\n",
    "from collections import deque\n",
    "def brackets(line):\n",
    "    dq = deque()\n",
    "    for elem in line:\n",
    "        if elem == '(':\n",
    "            dq.append('(')\n",
    "        elif elem == ')':\n",
    "            if not dq:\n",
    "                return False\n",
    "            dq.pop()\n",
    "    return not dq  \n",
    "\n",
    "print(brackets(\"(()())\"))\n",
    "# True\n",
    "print(brackets(\"\"))\n",
    "# True\n",
    "print(brackets(\"(()()))\"))\n",
    "# False\n",
    "\n",
    "\n",
    "#SkillFactory answer\n",
    "def brackets(line):\n",
    "    # Напишите тело функции\n",
    "    stack = deque()\n",
    "    for i in line:\n",
    "        if i == '(':\n",
    "            stack.append(i)\n",
    "        elif i == ')':\n",
    "            if len(stack) == 0:\n",
    "                return False\n",
    "            stack.pop()\n",
    "    if len(stack) == 0:\n",
    "        return True\n",
    "    return False"
   ]
  },
  {
   "cell_type": "code",
   "execution_count": null,
   "metadata": {},
   "outputs": [],
   "source": [
    "'''Необходимо отсортировать список по убыванию рейтинга. Если рейтинги совпадают, \n",
    "то кафе должны быть дополнительно отсортированы в алфавитном порядке.'''\n",
    "\n",
    "from collections import Counter, OrderedDict\n",
    "\n",
    "ratings = [\n",
    "('Old York', 3.3), ('New Age', 4.6), ('Old Gold', 3.3), ('General Foods', 4.8),\n",
    "('Belissimo', 4.5), ('CakeAndCoffee', 4.2), ('CakeOClock', 4.2), ('CakeTime', 4.1),\n",
    "('WokToWork', 4.9), ('WokAndRice', 4.9), ('Old Wine Cellar', 3.3), ('Nice Cakes', 3.9)\n",
    "]\n",
    "\n",
    "cafes = OrderedDict(sorted(ratings, key=lambda x: (-x[1], x[0])))\n",
    "\n",
    "print(cafes)"
   ]
  }
 ],
 "metadata": {
  "kernelspec": {
   "display_name": "Python 3",
   "language": "python",
   "name": "python3"
  },
  "language_info": {
   "codemirror_mode": {
    "name": "ipython",
    "version": 3
   },
   "file_extension": ".py",
   "mimetype": "text/x-python",
   "name": "python",
   "nbconvert_exporter": "python",
   "pygments_lexer": "ipython3",
   "version": "3.12.3"
  }
 },
 "nbformat": 4,
 "nbformat_minor": 2
}
