{
 "cells": [
  {
   "cell_type": "markdown",
   "id": "4cb85f20",
   "metadata": {},
   "source": [
    "Данные\tТип\tПримеры\n",
    "Целые числа\tint\t\n",
    "73\n",
    "0\n",
    "\n",
    "Числа с плавающей точкой\tfloat\t\n",
    "3.14\n",
    "-2.79\n",
    "\n",
    "Строки\tstr\t\n",
    "\"Hello, world!\"\n",
    "\"5\"\n",
    "\n",
    "Логические переменные\tbool\t\n",
    "True\n",
    "False\n",
    "\n",
    "Списки\tlist\t\n",
    "[1,2,3,4]\n",
    "\n",
    "Кортежи\ttuple\t\n",
    "(‘a’,’b’,’c’)\n",
    "\n",
    "Словари\tdict\t\n",
    "{‘a’ : 1, ‘b’ : 2}\n",
    "\n",
    "Множества\tset\t\n",
    "{‘a’, 1, ‘b’, 2}\n",
    "\n"
   ]
  },
  {
   "cell_type": "markdown",
   "id": "5f975205",
   "metadata": {},
   "source": [
    "**Неизменяемые типы**\n",
    "Целые числа (int)\t\n",
    "Числа с плавающей точкой (float)\t\n",
    "Строки (str)\t\n",
    "Логические переменные (bool)\t\n",
    "Кортежи (tuple)\n",
    "\n",
    "**Изменяемые типы**\n",
    "Списки (list)\n",
    "Cловари (dict)\n",
    "Множества (set)"
   ]
  }
 ],
 "metadata": {
  "language_info": {
   "name": "python"
  }
 },
 "nbformat": 4,
 "nbformat_minor": 5
}
