{
 "cells": [
  {
   "cell_type": "markdown",
   "id": "7bee9555",
   "metadata": {},
   "source": [
    "Список в Python — это упорядоченная изменяемая коллекция объектов произвольных типов."
   ]
  },
  {
   "cell_type": "code",
   "execution_count": 21,
   "id": "985458a7",
   "metadata": {},
   "outputs": [
    {
     "name": "stdout",
     "output_type": "stream",
     "text": [
      "[2, 6]\n"
     ]
    }
   ],
   "source": [
    "a = list(range(10))\n",
    "print(a[2::4]) "
   ]
  },
  {
   "cell_type": "code",
   "execution_count": 41,
   "id": "5932f4ae",
   "metadata": {},
   "outputs": [
    {
     "name": "stdout",
     "output_type": "stream",
     "text": [
      "['hello', 'kitty']\n"
     ]
    }
   ],
   "source": [
    "b= ('hello kitty').split()\n",
    "print(b[-2:])\n"
   ]
  },
  {
   "cell_type": "code",
   "execution_count": 7,
   "id": "bdfed616",
   "metadata": {},
   "outputs": [
    {
     "name": "stdout",
     "output_type": "stream",
     "text": [
      "['order1', 'order2', 'order3']\n"
     ]
    }
   ],
   "source": [
    "a, b, c = 'order1', 'order2', 'order3'\n",
    "orders = []\n",
    "orders.append(a)\n",
    "orders.append(b)\n",
    "orders.append(c)\n",
    "print(orders)"
   ]
  },
  {
   "cell_type": "code",
   "execution_count": 22,
   "id": "3a6ae21d",
   "metadata": {},
   "outputs": [
    {
     "name": "stdout",
     "output_type": "stream",
     "text": [
      "[]\n"
     ]
    }
   ],
   "source": [
    "book1, book2 = 'my book', 'your book'\n",
    "books = ['all books']\n",
    "books.append(book1)\n",
    "books.append(book2)\n",
    "books.clear()\n",
    "print(books)"
   ]
  },
  {
   "cell_type": "code",
   "execution_count": 21,
   "id": "90dd9132",
   "metadata": {},
   "outputs": [
    {
     "name": "stdout",
     "output_type": "stream",
     "text": [
      "['order1', 'order2', 'order3', 'order4', 'order5'] ['order1', 'order2', 'order3', 'order4', 'order5']\n"
     ]
    }
   ],
   "source": [
    "my_books = ['order1', 'order2', 'order3', 'order4', 'order5']\n",
    "anne_orders = my_books[:]\n",
    "print(my_books, anne_orders)"
   ]
  },
  {
   "cell_type": "code",
   "execution_count": 28,
   "id": "1f1c8686",
   "metadata": {},
   "outputs": [
    {
     "name": "stdout",
     "output_type": "stream",
     "text": [
      "['book1', 'book2', 'order1', 'order2', 'order3']\n"
     ]
    }
   ],
   "source": [
    "all_things = ['order1', 'order2', 'order3']\n",
    "only_books= ['book1', 'book2']\n",
    "all_things.extend(only_books)\n",
    "all_things.reverse()\n",
    "all_things.sort()\n",
    "print(all_things)"
   ]
  },
  {
   "cell_type": "code",
   "execution_count": 29,
   "id": "c39ecc2b",
   "metadata": {},
   "outputs": [
    {
     "name": "stdout",
     "output_type": "stream",
     "text": [
      "[5, 0.2, 'hello there', [1, 2, 3, 4], 'bye']\n"
     ]
    }
   ],
   "source": [
    "list1 = [5, 0.2, 'hello there', [1,2,3,4], 'bye']\n",
    "print(list1)"
   ]
  },
  {
   "cell_type": "code",
   "execution_count": 36,
   "id": "fa00dae4",
   "metadata": {},
   "outputs": [
    {
     "name": "stdout",
     "output_type": "stream",
     "text": [
      "['hello']\n"
     ]
    }
   ],
   "source": [
    "a = 'hello'\n",
    "b = a.split()\n",
    "print(b)\n"
   ]
  },
  {
   "cell_type": "markdown",
   "id": "eaa764e2",
   "metadata": {},
   "source": [
    "#### Что такое кортеж?\n",
    "Кортеж — неизменяемая структура данных. Его можно создать один раз и затем использовать без модификации элементов внутри. Это некая защита: не всегда хочется, чтобы пользователь/программист мог менять элементы. Список же такого ограничения не предоставляет.\n",
    "\n",
    "2\n",
    "Кортежи занимают меньший объём памяти. Чтобы увидеть это, можно воспользоваться хитрым методом у структур данных — __sizeof__().\n",
    "\n",
    "**Кортеж обрамляется круглыми скобками. Его можно иногда спутать с определением списка — будьте внимательны!**"
   ]
  },
  {
   "cell_type": "code",
   "execution_count": null,
   "id": "8db2cccc",
   "metadata": {},
   "outputs": [
    {
     "name": "stdout",
     "output_type": "stream",
     "text": [
      "72 88\n"
     ]
    }
   ],
   "source": [
    "a = (1,2,3,4,5,6) \n",
    "# создадим кортеж \n",
    "b = [1,2,3,4,5,6] \n",
    "# создадим список с теми же элементами, что в кортеже выше\n",
    "# 72, 88\n",
    "print(a.__sizeof__(), b.__sizeof__())\n"
   ]
  },
  {
   "cell_type": "code",
   "execution_count": 48,
   "id": "a7ef99cc",
   "metadata": {},
   "outputs": [
    {
     "name": "stdout",
     "output_type": "stream",
     "text": [
      "<class 'str'> <class 'tuple'>\n"
     ]
    },
    {
     "data": {
      "text/plain": [
       "'Важно! Иногда случается так, что при создании обычной переменной мы ставим \\nзапятую в конце строки. Это говорит интерпретатору Python, что создаётся кортеж, \\nхотя нам это не нужно. Поэтому будьте внимательны.'"
      ]
     },
     "execution_count": 48,
     "metadata": {},
     "output_type": "execute_result"
    }
   ],
   "source": [
    "tpl3  = (\"s\")\n",
    "tpl4 = (\"s\", )\n",
    "print(type(tpl3), type(tpl4))\n",
    "\n",
    "'''Важно! Иногда случается так, что при создании обычной переменной мы ставим \n",
    "запятую в конце строки. Это говорит интерпретатору Python, что создаётся кортеж, \n",
    "хотя нам это не нужно. Поэтому будьте внимательны.'''"
   ]
  },
  {
   "cell_type": "markdown",
   "id": "b4d86411",
   "metadata": {},
   "source": [
    "**✍ В этом юните вы:**\n",
    "\n",
    "- узнали о такой структуре данных, как список, поняли, как он создаётся и какие операции с ним можно выполнять;\n",
    "- познакомились со вставкой, удалением, подсчётом, расширением списков и т. д.;\n",
    "- изучили, что такое индексация и зачем она нужна в списках;\n",
    "- поняли, что строки — это списки, но записанные в другом виде;\n",
    "- узнали, что именно можно хранить в списках: простые (числа, строки) и составные (списки, кортежи, словари) структуры данных;\n",
    "- изучили сортировку и инвертирование списка;\n",
    "- познакомились с кортежами и поняли, для чего они нужны и какие операции можно с ними выполнять."
   ]
  }
 ],
 "metadata": {
  "kernelspec": {
   "display_name": "Python 3",
   "language": "python",
   "name": "python3"
  },
  "language_info": {
   "codemirror_mode": {
    "name": "ipython",
    "version": 3
   },
   "file_extension": ".py",
   "mimetype": "text/x-python",
   "name": "python",
   "nbconvert_exporter": "python",
   "pygments_lexer": "ipython3",
   "version": "3.12.3"
  }
 },
 "nbformat": 4,
 "nbformat_minor": 5
}
