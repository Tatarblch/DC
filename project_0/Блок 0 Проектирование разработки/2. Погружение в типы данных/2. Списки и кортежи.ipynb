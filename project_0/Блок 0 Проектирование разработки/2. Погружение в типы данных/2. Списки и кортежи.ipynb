{
 "cells": [
  {
   "cell_type": "markdown",
   "id": "7bee9555",
   "metadata": {},
   "source": [
    "Список в Python — это упорядоченная изменяемая коллекция объектов произвольных типов."
   ]
  },
  {
   "cell_type": "code",
   "execution_count": 21,
   "id": "985458a7",
   "metadata": {},
   "outputs": [
    {
     "name": "stdout",
     "output_type": "stream",
     "text": [
      "[2, 6]\n"
     ]
    }
   ],
   "source": [
    "a = list(range(10))\n",
    "print(a[2::4]) "
   ]
  },
  {
   "cell_type": "code",
   "execution_count": 41,
   "id": "5932f4ae",
   "metadata": {},
   "outputs": [
    {
     "name": "stdout",
     "output_type": "stream",
     "text": [
      "['hello', 'kitty']\n"
     ]
    }
   ],
   "source": [
    "b= ('hello kitty').split()\n",
    "print(b[-2:])\n"
   ]
  }
 ],
 "metadata": {
  "kernelspec": {
   "display_name": "Python 3",
   "language": "python",
   "name": "python3"
  },
  "language_info": {
   "codemirror_mode": {
    "name": "ipython",
    "version": 3
   },
   "file_extension": ".py",
   "mimetype": "text/x-python",
   "name": "python",
   "nbconvert_exporter": "python",
   "pygments_lexer": "ipython3",
   "version": "3.12.3"
  }
 },
 "nbformat": 4,
 "nbformat_minor": 5
}
