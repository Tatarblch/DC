{
 "cells": [
  {
   "cell_type": "markdown",
   "id": "2f400bfd",
   "metadata": {},
   "source": [
    "### Cловарь\n",
    "\n"
   ]
  },
  {
   "cell_type": "code",
   "execution_count": 89,
   "id": "625e4281",
   "metadata": {},
   "outputs": [
    {
     "data": {
      "text/plain": [
       "'Kirill Smirnov'"
      ]
     },
     "execution_count": 89,
     "metadata": {},
     "output_type": "execute_result"
    }
   ],
   "source": [
    "phones = {'+79033923029': 'Ivan Ivanov', '+78125849204': 'Kirill Smirnov', '+79053049385': 'Mark Parkhomenko', '+79265748370': 'Ekaterina Dmitrieva', '+79030598495': 'Ruslan Belyi'}\n",
    "phones['+78125849204']\n",
    "#Важно! Поиск всегда идёт по ключу. Нельзя использовать значение в качестве ключа."
   ]
  },
  {
   "cell_type": "markdown",
   "id": "ab4660bf",
   "metadata": {},
   "source": [
    "Важно! Ключи в словаре должны быть уникальными. Если вы вставляете в словарь два одинаковых ключа с разными значениями, то тогда в качестве значения примется последнее значение, которое вы записали для ключа:\n",
    "\n",
    "d = {\"a\": 1, \"b\":3, \"a\": 5}\n",
    "\n",
    "d[\"a\"] \n",
    "\n",
    "выведет 5, а не 1, так как 5 к ключу \"а\" было записано позже"
   ]
  },
  {
   "cell_type": "markdown",
   "id": "1a712fd7",
   "metadata": {},
   "source": [
    "Важно! В более ранних версиях Python (до версии 3.7) не гарантируется, что ключи в словаре всегда будут находиться в том порядке, в котором были добавлены, — порядок может меняться. Следует обращать на это внимание, если вы работаете с более ранними версиями языка.\n",
    "\n",
    "Словарь является неупорядоченной структурой, то есть ключи и их значения в оперативной памяти лежат не по порядку, поэтому сортировка словаря не имеет смысла и у него нет метода .sort().\n",
    "\n",
    "Однако вы можете отдельно сортировать ключи и значения словаря в виде списка (предварительно применив функцию list()). Чтобы выделить ключи и значения словаря, используются методы .keys() и .values(). Например:\n"
   ]
  },
  {
   "cell_type": "code",
   "execution_count": 90,
   "id": "f8a6cb76",
   "metadata": {},
   "outputs": [
    {
     "data": {
      "text/plain": [
       "['Dima', 'Kolya', 'Marina', 'Misha', 'Nina', 'Yana']"
      ]
     },
     "execution_count": 90,
     "metadata": {},
     "output_type": "execute_result"
    }
   ],
   "source": [
    "friends = {\"Kolya\": 180, \"Marina\": 176, \"Misha\": 158, \"Dima\": 201, \"Yana\": 183, \"Nina\": 156}\n",
    "friends_keys = list(friends.keys())\n",
    "friends_keys.sort()\n",
    "friends_keys\n",
    "#['Dima', 'Kolya', 'Marina', 'Misha', 'Nina', 'Yana']"
   ]
  },
  {
   "cell_type": "markdown",
   "id": "164068fb",
   "metadata": {},
   "source": [
    "### Create Dict"
   ]
  },
  {
   "cell_type": "code",
   "execution_count": 91,
   "id": "ff58f7ff",
   "metadata": {},
   "outputs": [
    {
     "name": "stdout",
     "output_type": "stream",
     "text": [
      "{} {}\n"
     ]
    }
   ],
   "source": [
    "empty_dict1 = dict()\n",
    "empty_dict2 = {}\n",
    "\n",
    "print(empty_dict1, empty_dict2)\n"
   ]
  },
  {
   "cell_type": "markdown",
   "id": "ce363807",
   "metadata": {},
   "source": [
    "### обращение к ключам"
   ]
  },
  {
   "cell_type": "code",
   "execution_count": 92,
   "id": "99bb3bfc",
   "metadata": {},
   "outputs": [
    {
     "data": {
      "text/plain": [
       "4"
      ]
     },
     "execution_count": 92,
     "metadata": {},
     "output_type": "execute_result"
    }
   ],
   "source": [
    "empty_dict2 = dict(zip(['a', 'b', 'c', 'd', 'e'], [1, 2, 3, 4, 5]))\n",
    "empty_dict2['d']"
   ]
  },
  {
   "cell_type": "code",
   "execution_count": 93,
   "id": "65b4ef70",
   "metadata": {},
   "outputs": [
    {
     "data": {
      "text/plain": [
       "50"
      ]
     },
     "execution_count": 93,
     "metadata": {},
     "output_type": "execute_result"
    }
   ],
   "source": [
    "place_and_money = dict(zip([1, 2, 3], [100, 50, 10]))\n",
    "place_and_money[2]"
   ]
  },
  {
   "cell_type": "markdown",
   "id": "11471536",
   "metadata": {},
   "source": [
    "### add/refresh value in dict by key"
   ]
  },
  {
   "cell_type": "code",
   "execution_count": 94,
   "id": "92de0953",
   "metadata": {},
   "outputs": [
    {
     "data": {
      "text/plain": [
       "{'+79033923029': 'Ivan Ivanov',\n",
       " '+78125849204': 'Kirill Smirnov',\n",
       " '+79053049385': 'Mark Parkhomenko',\n",
       " '+79265748370': 'Ekaterina Ershova',\n",
       " '+79030598495': 'Ruslan Belyi'}"
      ]
     },
     "execution_count": 94,
     "metadata": {},
     "output_type": "execute_result"
    }
   ],
   "source": [
    "#refresh\n",
    "phones ['+79265748370'] = 'Ekaterina Ershova'\n",
    "phones"
   ]
  },
  {
   "cell_type": "code",
   "execution_count": 95,
   "id": "44056d2f",
   "metadata": {},
   "outputs": [
    {
     "data": {
      "text/plain": [
       "{'+79033923029': 'Ivan Ivanov',\n",
       " '+78125849204': 'Kirill Smirnov',\n",
       " '+79053049385': 'Mark Parkhomenko',\n",
       " '+79265748370': 'Ekaterina Ershova',\n",
       " '+79030598495': 'Ruslan Belyi',\n",
       " '+79686581788': 'Artem Pliev'}"
      ]
     },
     "execution_count": 95,
     "metadata": {},
     "output_type": "execute_result"
    }
   ],
   "source": [
    "#add new\n",
    "phones['+79686581788'] = 'Artem Pliev'\n",
    "phones"
   ]
  },
  {
   "cell_type": "markdown",
   "id": "2fd52543",
   "metadata": {},
   "source": [
    "### Metods works with dict \n",
    "##### **clear(), key(), values(), get(), update(), pop(), setdefault()**"
   ]
  },
  {
   "cell_type": "markdown",
   "id": "59623b71",
   "metadata": {},
   "source": [
    "#### clear()"
   ]
  },
  {
   "cell_type": "code",
   "execution_count": 96,
   "id": "610be4d3",
   "metadata": {},
   "outputs": [
    {
     "name": "stdout",
     "output_type": "stream",
     "text": [
      "{}\n"
     ]
    }
   ],
   "source": [
    "\n",
    "friends = {\"Kolya\": 180, \"Marina\": 176, \"Misha\": 158, \"Dima\": 201, \"Yana\": 183, \"Nina\": 156}\n",
    "friends.clear()\n",
    "print(friends)"
   ]
  },
  {
   "cell_type": "markdown",
   "id": "22f38597",
   "metadata": {},
   "source": [
    "Важно! Если вы выполнили операцию .clear(), данные обратно вернуть нельзя, только если вы предусмотрительно не сохранили копию словаря (с помощью соответствующего метода) в другую переменную перед «стиранием».\n",
    "Также можно использовать обычное присвоение переменной friends пустого словаря:\n",
    "\n",
    "friends = {} \n"
   ]
  },
  {
   "cell_type": "markdown",
   "id": "53873f88",
   "metadata": {},
   "source": [
    "#### keys()"
   ]
  },
  {
   "cell_type": "code",
   "execution_count": 97,
   "id": "14c4445b",
   "metadata": {},
   "outputs": [
    {
     "data": {
      "text/plain": [
       "dict_keys(['Kolya', 'Marina', 'Misha', 'Dima', 'Yana', 'Nina'])"
      ]
     },
     "execution_count": 97,
     "metadata": {},
     "output_type": "execute_result"
    }
   ],
   "source": [
    "\n",
    "friends = {\"Kolya\": 180, \"Marina\": 176, \"Misha\": 158, \"Dima\": 201, \"Yana\": 183, \"Nina\": 156}\n",
    "friends.keys()"
   ]
  },
  {
   "cell_type": "markdown",
   "id": "1c97391d",
   "metadata": {},
   "source": [
    "Важно отметить, что метод .keys() возвращает не просто список, а структуру типа dict_keys.\n",
    "\n",
    "Это специальная структура представления данных внутри словаря. На данном этапе обращать на неё внимание не нужно. Мы сможем преобразовать её в список и работать с ней, используя уже изученные методы списка, далее в курсе."
   ]
  },
  {
   "cell_type": "markdown",
   "id": "46262c68",
   "metadata": {},
   "source": [
    "#### values()"
   ]
  },
  {
   "cell_type": "code",
   "execution_count": 98,
   "id": "61aa27f6",
   "metadata": {},
   "outputs": [
    {
     "data": {
      "text/plain": [
       "dict_values([180, 176, 158, 201, 183, 156])"
      ]
     },
     "execution_count": 98,
     "metadata": {},
     "output_type": "execute_result"
    }
   ],
   "source": [
    "\n",
    "friends.values()"
   ]
  },
  {
   "cell_type": "markdown",
   "id": "f46859a6",
   "metadata": {},
   "source": [
    "#### get()"
   ]
  },
  {
   "cell_type": "markdown",
   "id": "7db41ae7",
   "metadata": {},
   "source": [
    "Ещё один часто используемый метод в словарях. По сути, это «умная» замена обычному обращению по ключу через квадратные скобки. Почему «умная»? Если использовать только квадратные скобки при обращении к словарю, то при отсутствии нужного ключа программа выдаст ошибку и закончит работу."
   ]
  },
  {
   "cell_type": "code",
   "execution_count": 101,
   "id": "fae53c7c",
   "metadata": {},
   "outputs": [
    {
     "name": "stdout",
     "output_type": "stream",
     "text": [
      "None\n"
     ]
    }
   ],
   "source": [
    "# friends[\"Matvey\"] \n",
    "# Ошибка KeyError: \"Matvey\"\n",
    "\n",
    "print(friends.get(\"Matvey\"))\n",
    "# None"
   ]
  },
  {
   "cell_type": "code",
   "execution_count": null,
   "id": "cadde8be",
   "metadata": {},
   "outputs": [
    {
     "data": {
      "text/plain": [
       "\"I don't have a friend with such a name.\""
      ]
     },
     "execution_count": 54,
     "metadata": {},
     "output_type": "execute_result"
    }
   ],
   "source": [
    "# Также .get() позволяет вывести значение по умолчанию для отсутствующего ключа. \n",
    "# Это второй аргумент в методе .get():\n",
    "friends.get(\"Matvey\", \"I don't have a friend with such a name.\") \n",
    "# \"I don't have a friend with such a name.\"\n"
   ]
  },
  {
   "cell_type": "markdown",
   "id": "623ba31c",
   "metadata": {},
   "source": [
    "#### .update()"
   ]
  },
  {
   "cell_type": "code",
   "execution_count": null,
   "id": "1e1d8624",
   "metadata": {},
   "outputs": [
    {
     "data": {
      "text/plain": [
       "{'Kolya': 180,\n",
       " 'Marina': 176,\n",
       " 'Misha': 158,\n",
       " 'Dima': 201,\n",
       " 'Yana': 183,\n",
       " 'Nina': 156,\n",
       " 'Stas': 171,\n",
       " 'Nastya': 163}"
      ]
     },
     "execution_count": 69,
     "metadata": {},
     "output_type": "execute_result"
    }
   ],
   "source": [
    "friends.update({\"Stas\":171, \"Nastya\": 163})\n",
    "friends "
   ]
  },
  {
   "cell_type": "markdown",
   "id": "16449d39",
   "metadata": {},
   "source": [
    "Важно отметить, что .update() также обновляет уже существующие значения по ключам, находящимся в словаре:"
   ]
  },
  {
   "cell_type": "code",
   "execution_count": null,
   "id": "b624fb0d",
   "metadata": {},
   "outputs": [
    {
     "data": {
      "text/plain": [
       "{'Kolya': 180,\n",
       " 'Marina': 176,\n",
       " 'Dima': 201,\n",
       " 'Yana': 183,\n",
       " 'Nina': 156,\n",
       " 'Stas': 183,\n",
       " 'Nastya': 163}"
      ]
     },
     "execution_count": 61,
     "metadata": {},
     "output_type": "execute_result"
    }
   ],
   "source": [
    "friends.update({\"Stas\":183})\n",
    "friends \n"
   ]
  },
  {
   "cell_type": "markdown",
   "id": "e8b16b9a",
   "metadata": {},
   "source": [
    "#### pop()"
   ]
  },
  {
   "cell_type": "markdown",
   "id": "a2c716cf",
   "metadata": {},
   "source": [
    "Так же, как и в списке, в словаре метод .pop() удаляет из структуры данных элементы, но дополнительно метод возвращает результат — удалённый элемент. В словаре в этот метод мы передаём ключ. Из словаря удаляются и ключ, и значение, соответствующее этому ключу. Метод изменяет первоначальный словарь, а его результат (удалённый элемент) можно записать в переменную, чтобы в дальнейшем использовать в программе."
   ]
  },
  {
   "cell_type": "code",
   "execution_count": null,
   "id": "4435e8b5",
   "metadata": {},
   "outputs": [
    {
     "name": "stdout",
     "output_type": "stream",
     "text": [
      "{'Kolya': 180, 'Marina': 176, 'Dima': 201, 'Yana': 183, 'Nina': 156}\n",
      "158\n"
     ]
    }
   ],
   "source": [
    "best_friend_height = friends.pop(\"Misha\")\n",
    "print(friends)\n",
    "print(best_friend_height)\n"
   ]
  },
  {
   "cell_type": "markdown",
   "id": "af5bb762",
   "metadata": {},
   "source": [
    "#### setdefault()"
   ]
  },
  {
   "cell_type": "markdown",
   "id": "0f454f98",
   "metadata": {},
   "source": [
    "Часто эта конструкция используется в циклах и условных операциях, о которых вы узнаете дальше в задачах добавления и обновления элементов словаря.\n",
    "\n",
    "Например, вы хотите обновить рост друга в существующем словаре, но не уверены, что он там действительно есть (мало ли, вдруг вы забыли его добавить, отвлекаясь на какие-то повседневные дела).\n",
    "\n",
    "В таком случае можно воспользоваться методом .setdefault(). Он принимает два параметра: ключ и значение по умолчанию, если этого ключа нет в словаре. Этот метод создаст ключ за вас, если он действительно отсутствует, если ключ имеется, его значение останется неизменным:"
   ]
  },
  {
   "cell_type": "code",
   "execution_count": 46,
   "id": "198c8d63",
   "metadata": {},
   "outputs": [
    {
     "data": {
      "text/plain": [
       "180"
      ]
     },
     "execution_count": 46,
     "metadata": {},
     "output_type": "execute_result"
    }
   ],
   "source": [
    "# friends = {\"Kolya\": 180, \"Marina\": 176, \"Dima\": 201, \"Yana\": 183, \"Nina\": 156, \"Stas\": 183}\n",
    "friends.setdefault(\"Kolya\", 100)\n",
    "friends[\"Kolya\"] \n",
    "# Kolya уже была в словаре, поэтому значение её роста не изменилось."
   ]
  },
  {
   "cell_type": "code",
   "execution_count": 47,
   "id": "4f729fea",
   "metadata": {},
   "outputs": [
    {
     "name": "stdout",
     "output_type": "stream",
     "text": [
      "170\n"
     ]
    },
    {
     "data": {
      "text/plain": [
       "dict_keys(['Kolya', 'Marina', 'Dima', 'Yana', 'Nina', 'Stas', 'Nastya', 'Alena'])"
      ]
     },
     "execution_count": 47,
     "metadata": {},
     "output_type": "execute_result"
    }
   ],
   "source": [
    "# friends = {\"Kolya\": 180, \"Marina\": 176, \"Dima\": 201, \"Yana\": 183, \"Nina\": 156, \"Stas\": 183}\n",
    "friends.setdefault(\"Alena\", 170)\n",
    "print(friends[\"Alena\"])\n",
    "friends.keys() \n",
    "\n",
    "# А вот Алёны не было в словаре изначально, поэтому мы её добавили и записали значение по умолчанию."
   ]
  },
  {
   "cell_type": "markdown",
   "id": "ea44b88a",
   "metadata": {},
   "source": [
    "#### diferent structures data in dict"
   ]
  },
  {
   "cell_type": "markdown",
   "id": "15f71563",
   "metadata": {},
   "source": [
    "**Важно!** В качестве ключа словаря должен выступать неизменяемый тип данных (числа, строки, кортежи), а в качестве значения может выступать любая структура данных."
   ]
  },
  {
   "cell_type": "code",
   "execution_count": 103,
   "id": "2df9c75f",
   "metadata": {},
   "outputs": [
    {
     "data": {
      "text/plain": [
       "{(1, 2): 'hello',\n",
       " 'my name is': 'Curt',\n",
       " 5: (7, 7, 7),\n",
       " 'info': {'name': 'stive', 'age': 15, 'cities': ['Moscow', 'New York']}}"
      ]
     },
     "execution_count": 103,
     "metadata": {},
     "output_type": "execute_result"
    }
   ],
   "source": [
    "d = {(1,2): \"hello\", \"my name is\": \"Curt\", 5: (7,7,7), \"info\": {\"name\": \"stive\", \"age\": 15, \"cities\": [\"Moscow\", \"New York\"]}}\n",
    "d"
   ]
  },
  {
   "cell_type": "markdown",
   "id": "84e823d8",
   "metadata": {},
   "source": [
    "Разберем пример выше:\n",
    "\n",
    "- Мы видим, что в качестве первого ключа используется кортеж (1, 2), но значение у этого ключа строковое (напомним — значение может быть любым: число, строка, кортеж и т. д.).\n",
    "- В качестве следующего ключа выступает строка \"my name is\", а в качестве значения — строка \"Curt\". \n",
    "- В этот же словарь можно вставить в качестве ключа число (5), а в значение записать кортеж ((7, 7, 7)). \n",
    "- Далее мы видим, что для строкового ключа \"info\" в качестве значения выступает словарь {name: \"stive\", age: 15, cities: [\"Moscow\", \"New York\"]}. Внутри этого словаря по ключу /\"cities\" также находится список  [\"Moscow\", \"New York\"]. "
   ]
  },
  {
   "cell_type": "markdown",
   "id": "ed952c66",
   "metadata": {},
   "source": [
    "#### A little bit practic"
   ]
  },
  {
   "cell_type": "code",
   "execution_count": 108,
   "id": "86cc57f6",
   "metadata": {},
   "outputs": [
    {
     "name": "stdout",
     "output_type": "stream",
     "text": [
      "{5: [3, 4, 5], (3, 4, 5): 'strong man'}\n"
     ]
    }
   ],
   "source": [
    "test_dict = {}\n",
    "test_dict.setdefault(5,[3,4,5])\n",
    "test_dict.update({(3,4,5): 'strong man'})\n",
    "print(test_dict)"
   ]
  },
  {
   "cell_type": "code",
   "execution_count": 113,
   "id": "28cd642f",
   "metadata": {},
   "outputs": [
    {
     "name": "stdout",
     "output_type": "stream",
     "text": [
      "{'name': 'Sancho', 'surname': 'Panso', 'info': {'age': 35, 'country': 'Mexico'}}\n"
     ]
    }
   ],
   "source": [
    "test_dict2 = {}\n",
    "test_dict2.update({'name':'Sancho', 'surname':'Panso','info':{'age': 35, 'country': 'Mexico'}})\n",
    "print(test_dict2)"
   ]
  },
  {
   "cell_type": "code",
   "execution_count": 117,
   "id": "ecbeab16",
   "metadata": {},
   "outputs": [
    {
     "name": "stdout",
     "output_type": "stream",
     "text": [
      "{'info': [10, 15, 27], 'about': 'dont know'}\n"
     ]
    }
   ],
   "source": [
    "test_dict3={}\n",
    "test_dict3.update({'info': [10, 15, 27], 'about': {'game': 'football', 'period': 5}})\n",
    "test_dict3['about'] = 'dont know'\n",
    "print(test_dict3)"
   ]
  }
 ],
 "metadata": {
  "kernelspec": {
   "display_name": "Python 3",
   "language": "python",
   "name": "python3"
  },
  "language_info": {
   "codemirror_mode": {
    "name": "ipython",
    "version": 3
   },
   "file_extension": ".py",
   "mimetype": "text/x-python",
   "name": "python",
   "nbconvert_exporter": "python",
   "pygments_lexer": "ipython3",
   "version": "3.12.3"
  }
 },
 "nbformat": 4,
 "nbformat_minor": 5
}
