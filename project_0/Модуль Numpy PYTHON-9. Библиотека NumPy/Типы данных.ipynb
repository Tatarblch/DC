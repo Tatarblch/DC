{
 "cells": [
  {
   "cell_type": "markdown",
   "metadata": {},
   "source": [
    "# Типы данных"
   ]
  },
  {
   "cell_type": "code",
   "execution_count": null,
   "metadata": {},
   "outputs": [],
   "source": [
    "import numpy as np\n",
    "\n",
    "'''Это тип данных с общим корнем int. Int может быть со следующими окончаниями: int8, int16, int32 и int64. \n",
    "Окончание типа данных в NumPy показывает, сколько битов памяти должно быть выделено для хранения переменной.'''\n",
    "\n",
    "np.int8()  #  Преобразование обычного числа int в Numpy \n",
    "np.float() #  Преобразование обычного числа float в Numpy \n",
    "np.finfo(np.float16) or np.iinfo(np.int8()) # ПРоверка границ\n",
    "\n",
    "'''\n",
    "np.finfo(np.float16)\n",
    "# finfo(resolution=0.001, min=-6.55040e+04, max=6.55040e+04, dtype=float16)\n",
    "np.finfo(np.float32)\n",
    "# finfo(resolution=1e-06, min=-3.4028235e+38, max=3.4028235e+38, dtype=float32)\n",
    "np.finfo(np.float64)\n",
    "\n",
    "Resolution (от англ. «разрешение») в выводе finfo означает точность, с которой сохраняется десятичная часть \n",
    "числа в стандартном виде. Для float16 это 0.001, то есть числа 4.12 и 4.13 будут отличимы друг от друга, а вот 4.124 и 4.125 — нет. \n",
    "Третий знак числа float16 идёт уже с шагом 0.005:\n",
    "\n",
    "print(np.float16(4.12))\n",
    "# 4.12\n",
    "print(np.float16(4.13))\n",
    "# 4.13\n",
    "print(np.float16(4.123))\n",
    "# 4.12\n",
    "print(np.float16(4.124))\n",
    "# 4.125\n",
    "print(np.float16(4.125))\n",
    "# 4.125\n",
    "''' "
   ]
  },
  {
   "cell_type": "code",
   "execution_count": null,
   "metadata": {},
   "outputs": [],
   "source": [
    "# Дополнительные типы данных в NumPy\n",
    "\n",
    "print(*sorted(map(str, set(np.sctypeDict.values()))), sep='\\n')\n",
    "\n",
    "'''Следует обратить внимание на типы данных bool_ и str_. Они аналогичны bool и str из встроенных в Python'''\n"
   ]
  },
  {
   "cell_type": "code",
   "execution_count": 28,
   "metadata": {},
   "outputs": [
    {
     "name": "stdout",
     "output_type": "stream",
     "text": [
      "124\n",
      "<class 'numpy.uint64'>\n"
     ]
    },
    {
     "data": {
      "text/plain": [
       "finfo(resolution=1e-18, min=-1.189731495357231765e+4932, max=1.189731495357231765e+4932, dtype=float128)"
      ]
     },
     "execution_count": 28,
     "metadata": {},
     "output_type": "execute_result"
    }
   ],
   "source": [
    "import numpy as np\n",
    "\n",
    "b = np.uint(124)\n",
    "print(b)\n",
    "# 124\n",
    "print(type(b))\n",
    "# <class 'numpy.uint8'>\n",
    "np.iinfo(b)\n",
    "# iinfo(min=0, max=255, dtype=uint8)\n",
    "np.finfo(np.float128)"
   ]
  },
  {
   "cell_type": "code",
   "execution_count": 21,
   "metadata": {},
   "outputs": [
    {
     "name": "stdout",
     "output_type": "stream",
     "text": [
      "56\n"
     ]
    },
    {
     "name": "stderr",
     "output_type": "stream",
     "text": [
      "/tmp/ipykernel_4297/3739570326.py:1: DeprecationWarning: NumPy will stop allowing conversion of out-of-bound Python integers to integer arrays.  The conversion of -456 to uint8 will fail in the future.\n",
      "For the old behavior, usually:\n",
      "    np.array(value).astype(dtype)\n",
      "will give the desired result (the cast overflows).\n",
      "  result = np.uint8(-456)\n"
     ]
    }
   ],
   "source": [
    "result = np.uint8(-456)\n",
    "print(result)"
   ]
  },
  {
   "cell_type": "markdown",
   "metadata": {},
   "source": [
    "# Массивы в Numpy"
   ]
  },
  {
   "cell_type": "code",
   "execution_count": null,
   "metadata": {},
   "outputs": [],
   "source": [
    "'''\n",
    "np.array # Создать массив arr = np.array([1,5,2,9,10])\n",
    "\n",
    "dtype # Задать тип данных arr = np.array([1,5,2,9,10], dtype=np.int8)\n",
    "\n",
    ".ndim # Узнать размерность массива можно с помощью arr.ndim\n",
    "arr = np.array([1,5,2,9,10], dtype=np.int8)\n",
    "nd_arr = np.array([\n",
    "               [12, 45, 78],\n",
    "               [34, 56, 13],\n",
    "               [12, 98, 76]\n",
    "               ], dtype=np.int16)\n",
    "arr.ndim\n",
    "# 1\n",
    "nd_arr.ndim\n",
    "# 2               \n",
    "\n",
    ".size # Узнать общее число элементов в массиве можно с помощью arr.size\n",
    "\n",
    ".shape # Форма или структура массива хранится в атрибуте  arr.shape Форма массива определяется от длины внешнего массива (3) к внутреннему (3)\n",
    "\n",
    "\n",
    "arr.itemsize # Узнать, сколько «весит» каждый элемент массива в байтах позволяет \n",
    "arr.itemsize\n",
    "# 1\n",
    "nd_arr.itemsize\n",
    "# 2\n",
    "Действительно, в arr хранятся числа в виде int8 (8 бит => 1 байт), а в nd_arr — в виде int16 (16 бит => 2 байта).\n",
    "\n",
    "'''\n",
    "\n",
    "# Заполнение новых массивов\n",
    "\n",
    "'''\n",
    "np.zeros - Массив из нулей создаётся функцией\n",
    "Она принимает аргументы shape (обязательный) — форма массива (одно число или кортеж) \n",
    "и dtype (необязательный) — тип данных, который будет храниться в массиве.\n",
    "\n",
    "Создадим одномерный массив из пяти элементов:\n",
    "\n",
    "zeros_1d = np.zeros(5)\n",
    "zeros_1d\n",
    "# array([0., 0., 0., 0., 0.])\n",
    "Создадим трёхмерный массив с формой 5x4x3 и типом float32:\n",
    "\n",
    "zeros_3d = np.zeros((5,4,3), dtype=np.float32)\n",
    "print(zeros_3d.shape)\n",
    "# (5, 4, 3)\n",
    "'''\n",
    "\n",
    "\n",
    "'''\n",
    "arange - создание одномерных массивов\n",
    "arange([start,] stop, [step,], dtype=None)\n",
    "\n",
    "Аргументы start (по умолчанию 0), step (по умолчанию 1) и dtype (определяется автоматически) являются необязательными:\n",
    "\n",
    "start (входит в диапазон возвращаемых значений) задаёт начальное число;\n",
    "stop (не входит в диапазон возвращаемых значений, как и при использовании range) задаёт правую границу диапазона;\n",
    "step задаёт шаг, с которым в массив добавляются новые значения.\n",
    "'''\n",
    "\n",
    "'''\n",
    "linspace -- функция возвращает одномерный массив из чисел, расположенных на равном удалении друг от друга между началом и концом диапазона\n",
    "np.linspace(start, stop, num=50, endpoint=True, retstep=False, dtype=None)\n",
    "\n",
    "start и stop являются обязательными параметрами, задающими начало и конец возвращаемого диапазона;\n",
    "num — параметр, задающий число элементов, которое должно оказаться в массиве (по умолчанию 50);\n",
    "endpoint — включён или исключён конец диапазона (по умолчанию включён);\n",
    "retstep (по умолчанию False) позволяет указать, возвращать ли использованный шаг между значениями, помимо самого массива;\n",
    "dtype — уже хорошо знакомый нам параметр, задающий тип данных (если не задан, определяется автоматически).\n",
    "\n",
    "Давайте потренируемся. Создадим массив из десяти чисел между 1 и 2:\n",
    "arr = np.linspace(1, 2, 10)\n",
    "arr\n",
    "# array([1.        , 1.11111111, 1.22222222, 1.33333333, 1.44444444,\n",
    "#        1.55555556, 1.66666667, 1.77777778, 1.88888889, 2.        ])\n",
    "\n",
    "Создадим массив из десяти чисел между 1 и 2, не включая 2:\n",
    "arr = np.linspace(1, 2, 10, endpoint=False)\n",
    "arr\n",
    "# array([1. , 1.1, 1.2, 1.3, 1.4, 1.5, 1.6, 1.7, 1.8, 1.9])\n",
    "\n",
    "Узнаем, какой шаг был использован для создания массива из десяти чисел между 1 и 2, где 2 включалось и не включалось:\n",
    "arr, step = np.linspace(1, 2, 10, endpoint=True, retstep=True)\n",
    "print(step)\n",
    "# 0.1111111111111111\n",
    "arr, step = np.linspace(1, 2, 10, endpoint=False, retstep=True)\n",
    "print(step)\n",
    "# 0.1\n",
    "\n",
    "'''"
   ]
  },
  {
   "cell_type": "code",
   "execution_count": null,
   "metadata": {},
   "outputs": [
    {
     "data": {
      "text/plain": [
       "dtype('int8')"
      ]
     },
     "execution_count": 25,
     "metadata": {},
     "output_type": "execute_result"
    }
   ],
   "source": [
    "arr = np.array([1,5,2,9,10], dtype=np.int8)\n",
    "arr.dtype # Тип данных в массиве"
   ]
  },
  {
   "cell_type": "code",
   "execution_count": 47,
   "metadata": {},
   "outputs": [
    {
     "name": "stdout",
     "output_type": "stream",
     "text": [
      "[ 3.4523400e+05  8.7636212e+05  0.0000000e+00 -1.0000000e+03\n",
      "  9.9999999e+07]\n"
     ]
    }
   ],
   "source": [
    "arr = np.array([345234, 876362.12, 0, -1000, 99999999], dtype=np.float128)\n",
    "print(arr)"
   ]
  },
  {
   "cell_type": "code",
   "execution_count": null,
   "metadata": {},
   "outputs": [
    {
     "name": "stdout",
     "output_type": "stream",
     "text": [
      "1\n"
     ]
    },
    {
     "data": {
      "text/plain": [
       "2"
      ]
     },
     "execution_count": 9,
     "metadata": {},
     "output_type": "execute_result"
    }
   ],
   "source": [
    "import numpy as np\n",
    "# Свойства NumPy-массивов\n",
    "# Узнать размерность массива  .ndim\n",
    "# Узнать общее число элементов в массиве можно с помощью .size\n",
    "\n",
    "arr = np.array([1,5,2,9,10], dtype=np.int8)\n",
    "nd_arr = np.array([\n",
    "               [12, 45, 78],\n",
    "               [34, 56, 13],\n",
    "               [12, 98, 76]\n",
    "               ], dtype=np.int16)\n",
    "\n",
    "print(arr.ndim)\n",
    "# 1\n",
    "nd_arr.ndim\n",
    "# 2"
   ]
  },
  {
   "cell_type": "code",
   "execution_count": 16,
   "metadata": {},
   "outputs": [
    {
     "name": "stdout",
     "output_type": "stream",
     "text": [
      "0.45\n"
     ]
    }
   ],
   "source": [
    "import numpy as np\n",
    "arr, step = np.linspace(-6, 21, 60, endpoint=False, retstep=True)\n",
    "print(step)\n"
   ]
  }
 ],
 "metadata": {
  "kernelspec": {
   "display_name": "Python 3",
   "language": "python",
   "name": "python3"
  },
  "language_info": {
   "codemirror_mode": {
    "name": "ipython",
    "version": 3
   },
   "file_extension": ".py",
   "mimetype": "text/x-python",
   "name": "python",
   "nbconvert_exporter": "python",
   "pygments_lexer": "ipython3",
   "version": "3.12.3"
  }
 },
 "nbformat": 4,
 "nbformat_minor": 2
}
