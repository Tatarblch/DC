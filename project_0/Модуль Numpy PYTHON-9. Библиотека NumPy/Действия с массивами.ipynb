{
 "cells": [
  {
   "cell_type": "markdown",
   "metadata": {},
   "source": [
    "# Действия с массивами"
   ]
  },
  {
   "cell_type": "code",
   "execution_count": 2,
   "metadata": {},
   "outputs": [
    {
     "data": {
      "text/plain": [
       "array([[0, 2, 4, 6],\n",
       "       [1, 3, 5, 7]])"
      ]
     },
     "execution_count": 2,
     "metadata": {},
     "output_type": "execute_result"
    }
   ],
   "source": [
    "#Изменение формы массива\n",
    "\n",
    "# Созданим одномерный массив\n",
    "import numpy as np\n",
    "arr = np.arange(8)\n",
    "arr\n",
    "# array([0, 1, 2, 3, 4, 5, 6, 7])\n",
    "\n",
    "# первое число задало число строк, а второе — число столбцов.\n",
    "arr.shape = (2, 4) \n",
    "arr\n",
    "# array([[0, 1, 2, 3],\n",
    "#        [4, 5, 6, 7]])\n",
    "\n",
    "#Чтобы оставить исходный массив без изменений и дополнительно получить новый массив новой формы, нужно использовать функцию reshape\n",
    "arr_new = arr.reshape((2, 4))\n",
    "arr_new\n",
    "# array([[0, 1, 2, 3],\n",
    "#       [4, 5, 6, 7]])\n",
    "\n",
    "'''У функции reshape есть дополнительный именованный аргумент order. \n",
    "Он задаёт принцип, по которому элементы заполняют массив новой формы. Если order='C' (по умолчанию), \n",
    "массив заполняется по строкам, как в примере выше. Если order='F', массив заполняется числами по столбцам:'''\n",
    "\n",
    "arr = np.arange(8)\n",
    "arr_new_f = arr.reshape((2, 4), order='F')\n",
    "arr_new_f\n",
    "# array([[0, 2, 4, 6],\n",
    "#       [1, 3, 5, 7]])"
   ]
  },
  {
   "cell_type": "code",
   "execution_count": null,
   "metadata": {},
   "outputs": [
    {
     "data": {
      "text/plain": [
       "array([[0, 1, 2, 3],\n",
       "       [4, 5, 6, 7]])"
      ]
     },
     "execution_count": 8,
     "metadata": {},
     "output_type": "execute_result"
    }
   ],
   "source": [
    "# транспонирование\n",
    "'''Ещё одной часто используемой операцией с формой массива (особенно двумерного) является транспонирование. \n",
    "Эта операция меняет строки и столбцы массива местами. В NumPy эту операцию совершает функция transpose.'''\n",
    "\n",
    "# При транспонировании одномерного массива его форма не меняется:\n",
    "\n",
    "arr = np.arange(8)\n",
    "arr.shape = (2, 4)\n",
    "arr\n",
    "# array([[0, 1, 2, 3],\n",
    "#        [4, 5, 6, 7]])"
   ]
  },
  {
   "cell_type": "markdown",
   "metadata": {},
   "source": [
    "# Индексы и срезы в массивах"
   ]
  },
  {
   "cell_type": "code",
   "execution_count": 3,
   "metadata": {},
   "outputs": [
    {
     "name": "stdout",
     "output_type": "stream",
     "text": [
      "[1.  1.2 1.4 1.6 1.8 2. ]\n",
      "1.4\n",
      "[1.4 1.6]\n",
      "[2.  1.8 1.6 1.4 1.2 1. ]\n"
     ]
    }
   ],
   "source": [
    "'''Работа с одномерным массивом'''\n",
    "# Созданим массив\n",
    "arr = np.linspace(1, 2, 6)\n",
    "arr\n",
    "print(arr)\n",
    "# array([1. , 1.2, 1.4, 1.6, 1.8, 2. ])\n",
    "\n",
    "# Обратиться к его элементу по индексу можно так же, как и к списку:\n",
    "print(arr[2])\n",
    "\n",
    "# Привычная запись для срезов работает и для одномерных массивов:\n",
    "print(arr[2:4])\n",
    "\n",
    "# Revers massive\n",
    "print(arr[::-1])"
   ]
  },
  {
   "cell_type": "code",
   "execution_count": 6,
   "metadata": {},
   "outputs": [
    {
     "name": "stdout",
     "output_type": "stream",
     "text": [
      "[[0.  0.5 1.  1.5]\n",
      " [2.  2.5 3.  3.5]\n",
      " [4.  4.5 5.  5.5]]\n",
      "[[0.  0.5 1.  1.5]\n",
      " [2.  2.5 3.  3.5]\n",
      " [4.  4.5 5.  5.5]]\n"
     ]
    },
    {
     "data": {
      "text/plain": [
       "array([1., 3.])"
      ]
     },
     "execution_count": 6,
     "metadata": {},
     "output_type": "execute_result"
    }
   ],
   "source": [
    "# Работа с многомерными массивами\n",
    "\n",
    "#Создадим двумерный массив из одномерного:\n",
    "nd_array =  np.linspace(0, 6, 12, endpoint=False).reshape(3,4)\n",
    "nd_array\n",
    "print(nd_array)\n",
    "# array([[0. , 0.5, 1. , 1.5],\n",
    "#        [2. , 2.5, 3. , 3.5],\n",
    "#        [4. , 4.5, 5. , 5.5]])\n",
    "\n",
    "nd_array[1, 2] # получили со второй строки, третьего столбца - отчет идет от 0 не забывай.\n",
    "print(nd_array)\n",
    "\n",
    "# Срез - первый символ колличество строк, второй какие данные по нумерации взять\n",
    "nd_array[:2, 2]\n",
    "# array([1., 3.])"
   ]
  },
  {
   "cell_type": "markdown",
   "metadata": {},
   "source": [
    "# Practic"
   ]
  },
  {
   "cell_type": "code",
   "execution_count": null,
   "metadata": {},
   "outputs": [],
   "source": [
    "# Введите свое решение ниже\n",
    "import numpy as np\n",
    "\n",
    "mystery = np.array([[-13586,  15203,  28445, -27117,  -1781, -17182, -18049],\n",
    "import numpy as np\n",
    "\n",
    "mystery = np.array([[-13586,  15203,  28445, -27117,  -1781, -17182, -18049],\n",
    "       [ 25936, -30968,  -1297,  -4593,   6451,  15790,   7181],\n",
    "       [ 13348,  28049,  28655,  -6012,  21762,  25397,   8225],\n",
    "       [ 13240,   7994,  32592,  20149,  13754,  11795,   -564],\n",
    "       [-21725,  -8681,  30305,  22260, -17918,  12578,  29943],\n",
    "       [-16841, -25392, -17278,  11740,   5916,    -47, -32037]],\n",
    "      dtype=np.int16)\n",
    "\n",
    "# В переменную elem_5_3 сохраните элемент из 5 строки и 3 столбца:\n",
    "elem_5_3 = mystery[4, 2]\n",
    "# В переменную last сохраните элемент из последней строки последнего столбца\n",
    "last = mystery[-1, -1]\n",
    "# В переменную line_4 сохраните строку 4\n",
    "line_4 = mystery[3]\n",
    "# В переменную col_2 сохраните предпоследний столбец\n",
    "col_2 = mystery[:, -2]\n",
    "# Из строк 2-4 (включительно) получите столбцы 3-5 (включительно)\n",
    "part = mystery[1:4, 2:5]\n",
    "# Сохраните в переменную rev последний столбец в обратном порядке\n",
    "rev = mystery[::-1, -1] # or [:, -1][::-1]\n",
    "# Сохраните в переменную trans транспонированный массив\n",
    "trans = mystery.transpose()\n",
    "\n",
    "\n",
    "\n"
   ]
  }
 ],
 "metadata": {
  "kernelspec": {
   "display_name": "Python 3",
   "language": "python",
   "name": "python3"
  },
  "language_info": {
   "codemirror_mode": {
    "name": "ipython",
    "version": 3
   },
   "file_extension": ".py",
   "mimetype": "text/x-python",
   "name": "python",
   "nbconvert_exporter": "python",
   "pygments_lexer": "ipython3",
   "version": "3.12.3"
  }
 },
 "nbformat": 4,
 "nbformat_minor": 2
}
