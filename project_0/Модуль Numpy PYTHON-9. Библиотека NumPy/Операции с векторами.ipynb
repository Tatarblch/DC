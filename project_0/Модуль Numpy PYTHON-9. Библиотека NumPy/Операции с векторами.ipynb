{
 "cells": [
  {
   "cell_type": "markdown",
   "metadata": {},
   "source": [
    "# Векторы в NumPy и арифметика"
   ]
  },
  {
   "cell_type": "code",
   "execution_count": 2,
   "metadata": {},
   "outputs": [
    {
     "data": {
      "text/plain": [
       "array([ True,  True,  True,  True, False,  True, False])"
      ]
     },
     "execution_count": 2,
     "metadata": {},
     "output_type": "execute_result"
    }
   ],
   "source": [
    "'''В программировании вектором называют одномерный проиндексированный набор данных, другими словами — одномерный массив.'''\n",
    "\n",
    "'''Операция, применённая к двум векторам, на самом деле применяется поэлементно. То есть при сложении двух векторов первым элементом \n",
    "нового вектора будет сумма первых элементов исходных векторов, вторым — сумма вторых элементов и т. д.'''\n",
    "\n",
    "import numpy as np\n",
    "\n",
    "# Умножение и возведение в степень\n",
    "vec = np.arange(5)\n",
    "vec * 10\n",
    "# array([ 0, 10, 20, 30, 40])\n",
    "vec ** 2\n",
    "# array([ 0,  1,  4,  9, 16])\n",
    "\n",
    "# Сравнение\n",
    "vec1 = np.array([2, 4, 7, 2.5])\n",
    "vec2 = np.array([12, 6, 3.6, 13])\n",
    "vec1 > vec2\n",
    "# array([False, False,  True, False])\n",
    "vec = np.array([14,15,9,26,53,5,89])\n",
    "vec <= 26\n",
    "# array([ True,  True,  True,  True, False,  True, False])\n"
   ]
  },
  {
   "cell_type": "markdown",
   "metadata": {},
   "source": [
    "# Продвинутые операции с векторами"
   ]
  },
  {
   "cell_type": "code",
   "execution_count": 7,
   "metadata": {},
   "outputs": [
    {
     "name": "stdout",
     "output_type": "stream",
     "text": [
      "39.57271787481876\n",
      "39.57271787481876\n"
     ]
    },
    {
     "data": {
      "text/plain": [
       "0"
      ]
     },
     "execution_count": 7,
     "metadata": {},
     "output_type": "execute_result"
    }
   ],
   "source": [
    "'''Длина вектора, то есть расстояние между его началом и концом, [в евклидовом пространстве] вычисляется как квадратный \n",
    "корень из суммы квадратов всех его координат.'''\n",
    "length = np.sqrt(np.sum(vec ** 2))\n",
    "print(length)\n",
    "# 5.0\n",
    "# Для вычисления длины вектора нам потребуется функция norm:\n",
    "length = np.linalg.norm(vec)\n",
    "print(length)\n",
    "# 5.0\n",
    "\n",
    "\n",
    "'''Расстояние между двумя векторами, то есть расстояние между их концами, [в евклидовом пространстве] вычисляется как квадратный \n",
    "корень из суммы квадратов разностей соответствующих координат'''\n",
    "vec1 = np.array([0, 3, 5])\n",
    "vec2 = np.array([12, 4, 7])\n",
    "distance = np.sqrt(np.sum((vec1 - vec2) ** 2))\n",
    "distance\n",
    "# 12.206555615733702\n",
    "vec1 = np.array([0, 3, 5])\n",
    "vec2 = np.array([12, 4, 7])\n",
    "distance = np.linalg.norm(vec1 - vec2)\n",
    "distance\n",
    "# 12.206555615733702\n",
    "\n",
    "\n",
    "'''Cкалярным произведением двух векторов называют сумму произведений их соответствующих координат. '''\n",
    "vec1 = np.arange(1, 6)\n",
    "vec2 = np.linspace(10, 20, 5)\n",
    "scalar_product = np.sum(vec1 * vec2)\n",
    "scalar_product\n",
    "# 250.0\n",
    "scalar_product = np.dot(vec1, vec2)\n",
    "scalar_product\n",
    "# 250.0\n",
    "\n",
    "'''равенство скалярного произведения нулю означает перпендикулярность рассматриваемых векторов:'''\n",
    "\n",
    "x = np.array([25, 0])\n",
    "y = np.array([0, 10])\n",
    "np.dot(x, y)\n",
    "# 0"
   ]
  },
  {
   "cell_type": "markdown",
   "metadata": {},
   "source": [
    "# Базовые статистические функции для векторов"
   ]
  },
  {
   "cell_type": "code",
   "execution_count": 6,
   "metadata": {},
   "outputs": [
    {
     "name": "stdout",
     "output_type": "stream",
     "text": [
      "10.75\n"
     ]
    }
   ],
   "source": [
    "# Функции np.min и np.max позволяют находить максимальное и минимальное значение в векторе. \n",
    "# Их можно записывать как в виде np.min(<vector>) так и в виде <vector>.min()\n",
    "\n",
    "vec = np.array([2,7,18,28,18,1,8,4])\n",
    "vec.min()\n",
    "# 1\n",
    "np.max(vec)\n",
    "# 28\n",
    "\n",
    "#Функция  mean\n",
    "print(vec.mean()) \n",
    "#позволяет посчитать среднее значени\n",
    "\n"
   ]
  }
 ],
 "metadata": {
  "kernelspec": {
   "display_name": "Python 3",
   "language": "python",
   "name": "python3"
  },
  "language_info": {
   "codemirror_mode": {
    "name": "ipython",
    "version": 3
   },
   "file_extension": ".py",
   "mimetype": "text/x-python",
   "name": "python",
   "nbconvert_exporter": "python",
   "pygments_lexer": "ipython3",
   "version": "3.12.3"
  }
 },
 "nbformat": 4,
 "nbformat_minor": 2
}
